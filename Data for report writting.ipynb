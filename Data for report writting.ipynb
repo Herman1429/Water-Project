{
 "cells": [
  {
   "cell_type": "markdown",
   "id": "a19be396",
   "metadata": {},
   "source": [
    "# Reminder: here we have FINALLY completed the code to calculate FWHM, now we can complete the first half of the data. A few plotting question needs to be asked but otherwise good to go"
   ]
  },
  {
   "cell_type": "code",
   "execution_count": 1,
   "id": "f4b95916",
   "metadata": {},
   "outputs": [],
   "source": [
    "#import useful files\n",
    "import statistics as stat\n",
    "import numpy as np\n",
    "import pandas as pd\n",
    "import glob\n",
    "import seaborn as sns\n",
    "import matplotlib.ticker as mtick\n",
    "from matplotlib import pyplot as plt\n",
    "%matplotlib inline"
   ]
  },
  {
   "cell_type": "code",
   "execution_count": 2,
   "id": "d87c1d3a",
   "metadata": {},
   "outputs": [],
   "source": [
    "path = \"Tektronix_data/\"\n",
    "all_files = glob.glob(path + \"tek0000ALL.csv\")"
   ]
  },
  {
   "cell_type": "code",
   "execution_count": 3,
   "id": "2aad4763",
   "metadata": {},
   "outputs": [],
   "source": [
    "var = [pd.read_csv(filename,index_col=None,header=0,skiprows=17) for filename in all_files]"
   ]
  },
  {
   "cell_type": "code",
   "execution_count": 4,
   "id": "483fb79a",
   "metadata": {},
   "outputs": [],
   "source": [
    "dataframe = pd.concat(var,axis=0,ignore_index=True)"
   ]
  },
  {
   "cell_type": "code",
   "execution_count": 5,
   "id": "85ea729c",
   "metadata": {},
   "outputs": [
    {
     "data": {
      "text/html": [
       "<div>\n",
       "<style scoped>\n",
       "    .dataframe tbody tr th:only-of-type {\n",
       "        vertical-align: middle;\n",
       "    }\n",
       "\n",
       "    .dataframe tbody tr th {\n",
       "        vertical-align: top;\n",
       "    }\n",
       "\n",
       "    .dataframe thead th {\n",
       "        text-align: right;\n",
       "    }\n",
       "</style>\n",
       "<table border=\"1\" class=\"dataframe\">\n",
       "  <thead>\n",
       "    <tr style=\"text-align: right;\">\n",
       "      <th></th>\n",
       "      <th>TIME</th>\n",
       "      <th>CH1</th>\n",
       "      <th>CH2</th>\n",
       "      <th>CH3</th>\n",
       "      <th>CH4</th>\n",
       "    </tr>\n",
       "  </thead>\n",
       "  <tbody>\n",
       "    <tr>\n",
       "      <th>0</th>\n",
       "      <td>-9.430000e-08</td>\n",
       "      <td>-0.004</td>\n",
       "      <td>0.002</td>\n",
       "      <td>-4.000000e-03</td>\n",
       "      <td>0.008</td>\n",
       "    </tr>\n",
       "    <tr>\n",
       "      <th>1</th>\n",
       "      <td>-9.410000e-08</td>\n",
       "      <td>-0.004</td>\n",
       "      <td>-0.002</td>\n",
       "      <td>4.440890e-17</td>\n",
       "      <td>0.008</td>\n",
       "    </tr>\n",
       "    <tr>\n",
       "      <th>2</th>\n",
       "      <td>-9.390000e-08</td>\n",
       "      <td>-0.004</td>\n",
       "      <td>-0.010</td>\n",
       "      <td>-8.000000e-03</td>\n",
       "      <td>0.004</td>\n",
       "    </tr>\n",
       "    <tr>\n",
       "      <th>3</th>\n",
       "      <td>-9.370000e-08</td>\n",
       "      <td>-0.012</td>\n",
       "      <td>-0.002</td>\n",
       "      <td>-8.000000e-03</td>\n",
       "      <td>0.008</td>\n",
       "    </tr>\n",
       "    <tr>\n",
       "      <th>4</th>\n",
       "      <td>-9.350000e-08</td>\n",
       "      <td>-0.004</td>\n",
       "      <td>-0.010</td>\n",
       "      <td>-4.000000e-03</td>\n",
       "      <td>0.008</td>\n",
       "    </tr>\n",
       "    <tr>\n",
       "      <th>...</th>\n",
       "      <td>...</td>\n",
       "      <td>...</td>\n",
       "      <td>...</td>\n",
       "      <td>...</td>\n",
       "      <td>...</td>\n",
       "    </tr>\n",
       "    <tr>\n",
       "      <th>995</th>\n",
       "      <td>1.047000e-07</td>\n",
       "      <td>-0.008</td>\n",
       "      <td>-0.006</td>\n",
       "      <td>4.440890e-17</td>\n",
       "      <td>0.008</td>\n",
       "    </tr>\n",
       "    <tr>\n",
       "      <th>996</th>\n",
       "      <td>1.049000e-07</td>\n",
       "      <td>0.000</td>\n",
       "      <td>0.002</td>\n",
       "      <td>-8.000000e-03</td>\n",
       "      <td>0.004</td>\n",
       "    </tr>\n",
       "    <tr>\n",
       "      <th>997</th>\n",
       "      <td>1.051000e-07</td>\n",
       "      <td>-0.008</td>\n",
       "      <td>-0.002</td>\n",
       "      <td>-8.000000e-03</td>\n",
       "      <td>0.008</td>\n",
       "    </tr>\n",
       "    <tr>\n",
       "      <th>998</th>\n",
       "      <td>1.053000e-07</td>\n",
       "      <td>-0.004</td>\n",
       "      <td>0.002</td>\n",
       "      <td>4.440890e-17</td>\n",
       "      <td>0.004</td>\n",
       "    </tr>\n",
       "    <tr>\n",
       "      <th>999</th>\n",
       "      <td>1.055000e-07</td>\n",
       "      <td>-0.008</td>\n",
       "      <td>-0.006</td>\n",
       "      <td>4.000000e-03</td>\n",
       "      <td>0.008</td>\n",
       "    </tr>\n",
       "  </tbody>\n",
       "</table>\n",
       "<p>1000 rows × 5 columns</p>\n",
       "</div>"
      ],
      "text/plain": [
       "             TIME    CH1    CH2           CH3    CH4\n",
       "0   -9.430000e-08 -0.004  0.002 -4.000000e-03  0.008\n",
       "1   -9.410000e-08 -0.004 -0.002  4.440890e-17  0.008\n",
       "2   -9.390000e-08 -0.004 -0.010 -8.000000e-03  0.004\n",
       "3   -9.370000e-08 -0.012 -0.002 -8.000000e-03  0.008\n",
       "4   -9.350000e-08 -0.004 -0.010 -4.000000e-03  0.008\n",
       "..            ...    ...    ...           ...    ...\n",
       "995  1.047000e-07 -0.008 -0.006  4.440890e-17  0.008\n",
       "996  1.049000e-07  0.000  0.002 -8.000000e-03  0.004\n",
       "997  1.051000e-07 -0.008 -0.002 -8.000000e-03  0.008\n",
       "998  1.053000e-07 -0.004  0.002  4.440890e-17  0.004\n",
       "999  1.055000e-07 -0.008 -0.006  4.000000e-03  0.008\n",
       "\n",
       "[1000 rows x 5 columns]"
      ]
     },
     "execution_count": 5,
     "metadata": {},
     "output_type": "execute_result"
    }
   ],
   "source": [
    "dataframe"
   ]
  },
  {
   "cell_type": "code",
   "execution_count": 6,
   "id": "776aa912",
   "metadata": {},
   "outputs": [
    {
     "data": {
      "text/html": [
       "<div>\n",
       "<style scoped>\n",
       "    .dataframe tbody tr th:only-of-type {\n",
       "        vertical-align: middle;\n",
       "    }\n",
       "\n",
       "    .dataframe tbody tr th {\n",
       "        vertical-align: top;\n",
       "    }\n",
       "\n",
       "    .dataframe thead th {\n",
       "        text-align: right;\n",
       "    }\n",
       "</style>\n",
       "<table border=\"1\" class=\"dataframe\">\n",
       "  <thead>\n",
       "    <tr style=\"text-align: right;\">\n",
       "      <th></th>\n",
       "      <th>TIME</th>\n",
       "      <th>CH1</th>\n",
       "      <th>CH2</th>\n",
       "      <th>CH3</th>\n",
       "      <th>CH4</th>\n",
       "    </tr>\n",
       "  </thead>\n",
       "  <tbody>\n",
       "    <tr>\n",
       "      <th>0</th>\n",
       "      <td>-9.430000e-08</td>\n",
       "      <td>-0.004</td>\n",
       "      <td>0.002</td>\n",
       "      <td>-4.000000e-03</td>\n",
       "      <td>0.008</td>\n",
       "    </tr>\n",
       "    <tr>\n",
       "      <th>1</th>\n",
       "      <td>-9.410000e-08</td>\n",
       "      <td>-0.004</td>\n",
       "      <td>-0.002</td>\n",
       "      <td>4.440890e-17</td>\n",
       "      <td>0.008</td>\n",
       "    </tr>\n",
       "    <tr>\n",
       "      <th>2</th>\n",
       "      <td>-9.390000e-08</td>\n",
       "      <td>-0.004</td>\n",
       "      <td>-0.010</td>\n",
       "      <td>-8.000000e-03</td>\n",
       "      <td>0.004</td>\n",
       "    </tr>\n",
       "    <tr>\n",
       "      <th>3</th>\n",
       "      <td>-9.370000e-08</td>\n",
       "      <td>-0.012</td>\n",
       "      <td>-0.002</td>\n",
       "      <td>-8.000000e-03</td>\n",
       "      <td>0.008</td>\n",
       "    </tr>\n",
       "    <tr>\n",
       "      <th>4</th>\n",
       "      <td>-9.350000e-08</td>\n",
       "      <td>-0.004</td>\n",
       "      <td>-0.010</td>\n",
       "      <td>-4.000000e-03</td>\n",
       "      <td>0.008</td>\n",
       "    </tr>\n",
       "    <tr>\n",
       "      <th>...</th>\n",
       "      <td>...</td>\n",
       "      <td>...</td>\n",
       "      <td>...</td>\n",
       "      <td>...</td>\n",
       "      <td>...</td>\n",
       "    </tr>\n",
       "    <tr>\n",
       "      <th>995</th>\n",
       "      <td>1.047000e-07</td>\n",
       "      <td>-0.008</td>\n",
       "      <td>-0.006</td>\n",
       "      <td>4.440890e-17</td>\n",
       "      <td>0.008</td>\n",
       "    </tr>\n",
       "    <tr>\n",
       "      <th>996</th>\n",
       "      <td>1.049000e-07</td>\n",
       "      <td>0.000</td>\n",
       "      <td>0.002</td>\n",
       "      <td>-8.000000e-03</td>\n",
       "      <td>0.004</td>\n",
       "    </tr>\n",
       "    <tr>\n",
       "      <th>997</th>\n",
       "      <td>1.051000e-07</td>\n",
       "      <td>-0.008</td>\n",
       "      <td>-0.002</td>\n",
       "      <td>-8.000000e-03</td>\n",
       "      <td>0.008</td>\n",
       "    </tr>\n",
       "    <tr>\n",
       "      <th>998</th>\n",
       "      <td>1.053000e-07</td>\n",
       "      <td>-0.004</td>\n",
       "      <td>0.002</td>\n",
       "      <td>4.440890e-17</td>\n",
       "      <td>0.004</td>\n",
       "    </tr>\n",
       "    <tr>\n",
       "      <th>999</th>\n",
       "      <td>1.055000e-07</td>\n",
       "      <td>-0.008</td>\n",
       "      <td>-0.006</td>\n",
       "      <td>4.000000e-03</td>\n",
       "      <td>0.008</td>\n",
       "    </tr>\n",
       "  </tbody>\n",
       "</table>\n",
       "<p>1000 rows × 5 columns</p>\n",
       "</div>"
      ],
      "text/plain": [
       "             TIME    CH1    CH2           CH3    CH4\n",
       "0   -9.430000e-08 -0.004  0.002 -4.000000e-03  0.008\n",
       "1   -9.410000e-08 -0.004 -0.002  4.440890e-17  0.008\n",
       "2   -9.390000e-08 -0.004 -0.010 -8.000000e-03  0.004\n",
       "3   -9.370000e-08 -0.012 -0.002 -8.000000e-03  0.008\n",
       "4   -9.350000e-08 -0.004 -0.010 -4.000000e-03  0.008\n",
       "..            ...    ...    ...           ...    ...\n",
       "995  1.047000e-07 -0.008 -0.006  4.440890e-17  0.008\n",
       "996  1.049000e-07  0.000  0.002 -8.000000e-03  0.004\n",
       "997  1.051000e-07 -0.008 -0.002 -8.000000e-03  0.008\n",
       "998  1.053000e-07 -0.004  0.002  4.440890e-17  0.004\n",
       "999  1.055000e-07 -0.008 -0.006  4.000000e-03  0.008\n",
       "\n",
       "[1000 rows x 5 columns]"
      ]
     },
     "execution_count": 6,
     "metadata": {},
     "output_type": "execute_result"
    }
   ],
   "source": [
    "#change the data type\n",
    "dataframe.astype(float)"
   ]
  },
  {
   "cell_type": "code",
   "execution_count": 7,
   "id": "a33e9bef",
   "metadata": {},
   "outputs": [],
   "source": [
    "def FWHM_time_duration(X,Y):\n",
    "    half_max = max(Y) / 2.\n",
    "    #find the full width at half maxima, we choose denominator to be 2\n",
    "    #if we want full width at tenth maxima, we choose it to be 10 \n",
    "    frac = 2\n",
    "    d = Y - (max(Y) / frac) \n",
    "    #locate and subtract the 2 points in x axis (which is difference in time) for FWHM duration\n",
    "    indexes = np.where(d > 0)[0]\n",
    "    return abs(X[indexes[-1]] - X[indexes[0]])"
   ]
  },
  {
   "cell_type": "code",
   "execution_count": 8,
   "id": "6695235d",
   "metadata": {},
   "outputs": [],
   "source": [
    "def FWHM_value(Y):\n",
    "    FWHM = max(Y)/2\n",
    "    return FWHM"
   ]
  },
  {
   "cell_type": "code",
   "execution_count": 10,
   "id": "95a75e2a",
   "metadata": {},
   "outputs": [
    {
     "data": {
      "text/plain": [
       "2e-09"
      ]
     },
     "execution_count": 10,
     "metadata": {},
     "output_type": "execute_result"
    }
   ],
   "source": [
    "FWHM_time_duration(dataframe.TIME,dataframe.CH2)"
   ]
  },
  {
   "cell_type": "code",
   "execution_count": 11,
   "id": "38de0bd0",
   "metadata": {},
   "outputs": [
    {
     "data": {
      "text/plain": [
       "(0.0, 1e-08)"
      ]
     },
     "execution_count": 11,
     "metadata": {},
     "output_type": "execute_result"
    },
    {
     "data": {
      "image/png": "[encoded data removed]",
      "text/plain": [
       "<Figure size 432x288 with 1 Axes>"
      ]
     },
     "metadata": {
      "needs_background": "light"
     },
     "output_type": "display_data"
    }
   ],
   "source": [
    "fig, ax = plt.subplots()\n",
    "ax.scatter(dataframe.TIME,dataframe.CH2)\n",
    "ax.set_xlim([0,1e-8])"
   ]
  },
  {
   "cell_type": "code",
   "execution_count": 12,
   "id": "1e0620a5",
   "metadata": {},
   "outputs": [
    {
     "data": {
      "text/plain": [
       "0.203"
      ]
     },
     "execution_count": 12,
     "metadata": {},
     "output_type": "execute_result"
    }
   ],
   "source": [
    "dataframe.CH2.max()/2"
   ]
  },
  {
   "cell_type": "code",
   "execution_count": 13,
   "id": "76b2f4c3",
   "metadata": {},
   "outputs": [
    {
     "data": {
      "text/plain": [
       "0.203"
      ]
     },
     "execution_count": 13,
     "metadata": {},
     "output_type": "execute_result"
    }
   ],
   "source": [
    "FWHM_value(dataframe.CH2)"
   ]
  },
  {
   "cell_type": "code",
   "execution_count": null,
   "id": "f4636482",
   "metadata": {},
   "outputs": [],
   "source": []
  }
 ],
 "metadata": {
  "kernelspec": {
   "display_name": "Python 3",
   "language": "python",
   "name": "python3"
  },
  "language_info": {
   "codemirror_mode": {
    "name": "ipython",
    "version": 3
   },
   "file_extension": ".py",
   "mimetype": "text/x-python",
   "name": "python",
   "nbconvert_exporter": "python",
   "pygments_lexer": "ipython3",
   "version": "3.8.8"
  }
 },
 "nbformat": 4,
 "nbformat_minor": 5
}
