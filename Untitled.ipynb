{
 "cells": [
  {
   "cell_type": "code",
   "execution_count": 1,
   "id": "7d86e33c",
   "metadata": {},
   "outputs": [
    {
     "name": "stdout",
     "output_type": "stream",
     "text": [
      "Hello world\n"
     ]
    }
   ],
   "source": [
    "print(\"Hello world\")"
   ]
  },
  {
   "cell_type": "code",
   "execution_count": 2,
   "id": "4fcae13d",
   "metadata": {},
   "outputs": [],
   "source": [
    "#import useful files\n",
    "import statistics as stat\n",
    "import numpy as np\n",
    "import pandas as pd\n",
    "import glob\n",
    "import seaborn as sns\n",
    "import matplotlib.ticker as mtick\n",
    "from matplotlib import pyplot as plt\n",
    "%matplotlib inline"
   ]
  },
  {
   "cell_type": "code",
   "execution_count": 3,
   "id": "a691cdc1",
   "metadata": {},
   "outputs": [],
   "source": [
    "#file path with glob\n",
    "path = \"Refined_Picoscope_files/\"\n",
    "all_files = glob.glob(path + \"*.csv\")"
   ]
  },
  {
   "cell_type": "code",
   "execution_count": 4,
   "id": "f59ed4f7",
   "metadata": {},
   "outputs": [],
   "source": [
    "#shows all selected files once comma is removed\n",
    "all_files;"
   ]
  },
  {
   "cell_type": "code",
   "execution_count": 5,
   "id": "f320ac17",
   "metadata": {},
   "outputs": [],
   "source": [
    "#turn all 512 files into lists\n",
    "var = [pd.read_csv(filename,index_col=None,header=0) for filename in all_files]"
   ]
  },
  {
   "cell_type": "code",
   "execution_count": 6,
   "id": "834c037d",
   "metadata": {},
   "outputs": [
    {
     "data": {
      "text/html": [
       "<div>\n",
       "<style scoped>\n",
       "    .dataframe tbody tr th:only-of-type {\n",
       "        vertical-align: middle;\n",
       "    }\n",
       "\n",
       "    .dataframe tbody tr th {\n",
       "        vertical-align: top;\n",
       "    }\n",
       "\n",
       "    .dataframe thead th {\n",
       "        text-align: right;\n",
       "    }\n",
       "</style>\n",
       "<table border=\"1\" class=\"dataframe\">\n",
       "  <thead>\n",
       "    <tr style=\"text-align: right;\">\n",
       "      <th></th>\n",
       "      <th>Time</th>\n",
       "      <th>Channel A</th>\n",
       "      <th>Channel B</th>\n",
       "      <th>Channel C</th>\n",
       "      <th>Channel D</th>\n",
       "    </tr>\n",
       "  </thead>\n",
       "  <tbody>\n",
       "    <tr>\n",
       "      <th>0</th>\n",
       "      <td>(ns)</td>\n",
       "      <td>(mV)</td>\n",
       "      <td>(mV)</td>\n",
       "      <td>(mV)</td>\n",
       "      <td>(V)</td>\n",
       "    </tr>\n",
       "    <tr>\n",
       "      <th>1</th>\n",
       "      <td>-16.10980349</td>\n",
       "      <td>0.00000000</td>\n",
       "      <td>-3.93700800</td>\n",
       "      <td>7.87401500</td>\n",
       "      <td>0.00787402</td>\n",
       "    </tr>\n",
       "    <tr>\n",
       "      <th>2</th>\n",
       "      <td>-15.30980348</td>\n",
       "      <td>0.00000000</td>\n",
       "      <td>0.00000000</td>\n",
       "      <td>3.93700800</td>\n",
       "      <td>0.00787402</td>\n",
       "    </tr>\n",
       "    <tr>\n",
       "      <th>3</th>\n",
       "      <td>-14.50980347</td>\n",
       "      <td>0.00000000</td>\n",
       "      <td>-3.93700800</td>\n",
       "      <td>3.93700800</td>\n",
       "      <td>0.00787402</td>\n",
       "    </tr>\n",
       "    <tr>\n",
       "      <th>4</th>\n",
       "      <td>-13.70980346</td>\n",
       "      <td>0.00000000</td>\n",
       "      <td>-3.93700800</td>\n",
       "      <td>3.93700800</td>\n",
       "      <td>0.00787402</td>\n",
       "    </tr>\n",
       "    <tr>\n",
       "      <th>...</th>\n",
       "      <td>...</td>\n",
       "      <td>...</td>\n",
       "      <td>...</td>\n",
       "      <td>...</td>\n",
       "      <td>...</td>\n",
       "    </tr>\n",
       "    <tr>\n",
       "      <th>66</th>\n",
       "      <td>35.89019720</td>\n",
       "      <td>0.00000000</td>\n",
       "      <td>-7.87401500</td>\n",
       "      <td>3.93700800</td>\n",
       "      <td>0.00000000</td>\n",
       "    </tr>\n",
       "    <tr>\n",
       "      <th>67</th>\n",
       "      <td>36.69019721</td>\n",
       "      <td>0.00000000</td>\n",
       "      <td>0.00000000</td>\n",
       "      <td>3.93700800</td>\n",
       "      <td>0.00787402</td>\n",
       "    </tr>\n",
       "    <tr>\n",
       "      <th>68</th>\n",
       "      <td>37.49019722</td>\n",
       "      <td>3.93700800</td>\n",
       "      <td>-3.93700800</td>\n",
       "      <td>7.87401500</td>\n",
       "      <td>0.00787402</td>\n",
       "    </tr>\n",
       "    <tr>\n",
       "      <th>69</th>\n",
       "      <td>38.29019724</td>\n",
       "      <td>0.00000000</td>\n",
       "      <td>0.00000000</td>\n",
       "      <td>0.00000000</td>\n",
       "      <td>0.00787402</td>\n",
       "    </tr>\n",
       "    <tr>\n",
       "      <th>70</th>\n",
       "      <td>39.09019725</td>\n",
       "      <td>0.00000000</td>\n",
       "      <td>0.00000000</td>\n",
       "      <td>3.93700800</td>\n",
       "      <td>0.00787402</td>\n",
       "    </tr>\n",
       "  </tbody>\n",
       "</table>\n",
       "<p>71 rows × 5 columns</p>\n",
       "</div>"
      ],
      "text/plain": [
       "            Time   Channel A    Channel B   Channel C   Channel D\n",
       "0           (ns)        (mV)         (mV)        (mV)         (V)\n",
       "1   -16.10980349  0.00000000  -3.93700800  7.87401500  0.00787402\n",
       "2   -15.30980348  0.00000000   0.00000000  3.93700800  0.00787402\n",
       "3   -14.50980347  0.00000000  -3.93700800  3.93700800  0.00787402\n",
       "4   -13.70980346  0.00000000  -3.93700800  3.93700800  0.00787402\n",
       "..           ...         ...          ...         ...         ...\n",
       "66   35.89019720  0.00000000  -7.87401500  3.93700800  0.00000000\n",
       "67   36.69019721  0.00000000   0.00000000  3.93700800  0.00787402\n",
       "68   37.49019722  3.93700800  -3.93700800  7.87401500  0.00787402\n",
       "69   38.29019724  0.00000000   0.00000000  0.00000000  0.00787402\n",
       "70   39.09019725  0.00000000   0.00000000  3.93700800  0.00787402\n",
       "\n",
       "[71 rows x 5 columns]"
      ]
     },
     "execution_count": 6,
     "metadata": {},
     "output_type": "execute_result"
    }
   ],
   "source": [
    "#Show the first list\n",
    "var[0]"
   ]
  },
  {
   "cell_type": "code",
   "execution_count": 7,
   "id": "cc3d0ce9",
   "metadata": {},
   "outputs": [],
   "source": [
    "#concat all lists and turn into 1 big dataframe\n",
    "dataframe = pd.concat(var,axis=0,ignore_index=True)"
   ]
  },
  {
   "cell_type": "code",
   "execution_count": 8,
   "id": "838a7e29",
   "metadata": {},
   "outputs": [],
   "source": [
    "#renaming the headers (they came as Channel 1,2,3,4 - need to know what they represent)\n",
    "rename = ['Time','Green_Channel_532nm','Raman_Channel_Detection_640nm', 'Channel_1','Raman_Channel_Detection_660nm']\n",
    "dataframe.columns = rename"
   ]
  },
  {
   "cell_type": "code",
   "execution_count": 9,
   "id": "32716093",
   "metadata": {},
   "outputs": [
    {
     "data": {
      "text/plain": [
       "Time                             object\n",
       "Green_Channel_532nm              object\n",
       "Raman_Channel_Detection_640nm    object\n",
       "Channel_1                        object\n",
       "Raman_Channel_Detection_660nm    object\n",
       "dtype: object"
      ]
     },
     "execution_count": 9,
     "metadata": {},
     "output_type": "execute_result"
    }
   ],
   "source": [
    "#identify the type of the dataframe columns\n",
    "dataframe.dtypes"
   ]
  },
  {
   "cell_type": "code",
   "execution_count": 10,
   "id": "27cd5e71",
   "metadata": {},
   "outputs": [],
   "source": [
    "#Axe all the rows that have the units i.e. remove the strings/objects\n",
    "clean_dataframe = dataframe.drop(dataframe[dataframe['Time'] == '(ns)'].index)"
   ]
  },
  {
   "cell_type": "code",
   "execution_count": 11,
   "id": "5148d850",
   "metadata": {},
   "outputs": [
    {
     "name": "stdout",
     "output_type": "stream",
     "text": [
      "512 rows has been removed from original dataframe.\n"
     ]
    }
   ],
   "source": [
    "#checking we got rid of the right amount of rows\n",
    "axed_data = dataframe.shape[0] - clean_dataframe.shape[0] \n",
    "print(axed_data,'rows has been removed from original dataframe.')"
   ]
  },
  {
   "cell_type": "code",
   "execution_count": 12,
   "id": "7e509d06",
   "metadata": {},
   "outputs": [],
   "source": [
    "#change the data type\n",
    "Clean_dataframe = clean_dataframe.astype(float)"
   ]
  },
  {
   "cell_type": "code",
   "execution_count": 13,
   "id": "2ca13b44",
   "metadata": {},
   "outputs": [
    {
     "data": {
      "text/html": [
       "<div>\n",
       "<style scoped>\n",
       "    .dataframe tbody tr th:only-of-type {\n",
       "        vertical-align: middle;\n",
       "    }\n",
       "\n",
       "    .dataframe tbody tr th {\n",
       "        vertical-align: top;\n",
       "    }\n",
       "\n",
       "    .dataframe thead th {\n",
       "        text-align: right;\n",
       "    }\n",
       "</style>\n",
       "<table border=\"1\" class=\"dataframe\">\n",
       "  <thead>\n",
       "    <tr style=\"text-align: right;\">\n",
       "      <th></th>\n",
       "      <th>Time</th>\n",
       "      <th>Green_Channel_532nm</th>\n",
       "      <th>Raman_Channel_Detection_640nm</th>\n",
       "      <th>Channel_1</th>\n",
       "      <th>Raman_Channel_Detection_660nm</th>\n",
       "    </tr>\n",
       "  </thead>\n",
       "  <tbody>\n",
       "    <tr>\n",
       "      <th>1</th>\n",
       "      <td>-16.109803</td>\n",
       "      <td>0.000000</td>\n",
       "      <td>-3.937008</td>\n",
       "      <td>7.874015</td>\n",
       "      <td>0.007874</td>\n",
       "    </tr>\n",
       "    <tr>\n",
       "      <th>2</th>\n",
       "      <td>-15.309803</td>\n",
       "      <td>0.000000</td>\n",
       "      <td>0.000000</td>\n",
       "      <td>3.937008</td>\n",
       "      <td>0.007874</td>\n",
       "    </tr>\n",
       "    <tr>\n",
       "      <th>3</th>\n",
       "      <td>-14.509803</td>\n",
       "      <td>0.000000</td>\n",
       "      <td>-3.937008</td>\n",
       "      <td>3.937008</td>\n",
       "      <td>0.007874</td>\n",
       "    </tr>\n",
       "    <tr>\n",
       "      <th>4</th>\n",
       "      <td>-13.709803</td>\n",
       "      <td>0.000000</td>\n",
       "      <td>-3.937008</td>\n",
       "      <td>3.937008</td>\n",
       "      <td>0.007874</td>\n",
       "    </tr>\n",
       "    <tr>\n",
       "      <th>5</th>\n",
       "      <td>-12.909803</td>\n",
       "      <td>-7.874015</td>\n",
       "      <td>-3.937008</td>\n",
       "      <td>3.937008</td>\n",
       "      <td>0.007874</td>\n",
       "    </tr>\n",
       "  </tbody>\n",
       "</table>\n",
       "</div>"
      ],
      "text/plain": [
       "        Time  Green_Channel_532nm  Raman_Channel_Detection_640nm  Channel_1  \\\n",
       "1 -16.109803             0.000000                      -3.937008   7.874015   \n",
       "2 -15.309803             0.000000                       0.000000   3.937008   \n",
       "3 -14.509803             0.000000                      -3.937008   3.937008   \n",
       "4 -13.709803             0.000000                      -3.937008   3.937008   \n",
       "5 -12.909803            -7.874015                      -3.937008   3.937008   \n",
       "\n",
       "   Raman_Channel_Detection_660nm  \n",
       "1                       0.007874  \n",
       "2                       0.007874  \n",
       "3                       0.007874  \n",
       "4                       0.007874  \n",
       "5                       0.007874  "
      ]
     },
     "execution_count": 13,
     "metadata": {},
     "output_type": "execute_result"
    }
   ],
   "source": [
    "#Check the dataframe\n",
    "Clean_dataframe.head()"
   ]
  },
  {
   "cell_type": "code",
   "execution_count": 14,
   "id": "33229856",
   "metadata": {},
   "outputs": [
    {
     "data": {
      "text/html": [
       "<div>\n",
       "<style scoped>\n",
       "    .dataframe tbody tr th:only-of-type {\n",
       "        vertical-align: middle;\n",
       "    }\n",
       "\n",
       "    .dataframe tbody tr th {\n",
       "        vertical-align: top;\n",
       "    }\n",
       "\n",
       "    .dataframe thead th {\n",
       "        text-align: right;\n",
       "    }\n",
       "</style>\n",
       "<table border=\"1\" class=\"dataframe\">\n",
       "  <thead>\n",
       "    <tr style=\"text-align: right;\">\n",
       "      <th></th>\n",
       "      <th>Time</th>\n",
       "      <th>Green_Channel_532nm</th>\n",
       "      <th>Raman_Channel_Detection_640nm</th>\n",
       "      <th>Channel_1</th>\n",
       "      <th>Raman_Channel_Detection_660nm</th>\n",
       "    </tr>\n",
       "  </thead>\n",
       "  <tbody>\n",
       "    <tr>\n",
       "      <th>count</th>\n",
       "      <td>35840.000000</td>\n",
       "      <td>35840.000000</td>\n",
       "      <td>35840.000000</td>\n",
       "      <td>35840.000000</td>\n",
       "      <td>35840.000000</td>\n",
       "    </tr>\n",
       "    <tr>\n",
       "      <th>mean</th>\n",
       "      <td>11.372035</td>\n",
       "      <td>-26.742212</td>\n",
       "      <td>-25.460488</td>\n",
       "      <td>10.250830</td>\n",
       "      <td>-0.023757</td>\n",
       "    </tr>\n",
       "    <tr>\n",
       "      <th>std</th>\n",
       "      <td>16.165574</td>\n",
       "      <td>89.871831</td>\n",
       "      <td>80.234046</td>\n",
       "      <td>38.529880</td>\n",
       "      <td>0.110836</td>\n",
       "    </tr>\n",
       "    <tr>\n",
       "      <th>min</th>\n",
       "      <td>-16.800000</td>\n",
       "      <td>-496.063000</td>\n",
       "      <td>-484.252000</td>\n",
       "      <td>-23.622050</td>\n",
       "      <td>-0.740158</td>\n",
       "    </tr>\n",
       "    <tr>\n",
       "      <th>25%</th>\n",
       "      <td>-2.556203</td>\n",
       "      <td>-7.874015</td>\n",
       "      <td>-7.874015</td>\n",
       "      <td>3.937008</td>\n",
       "      <td>0.000000</td>\n",
       "    </tr>\n",
       "    <tr>\n",
       "      <th>50%</th>\n",
       "      <td>11.195000</td>\n",
       "      <td>0.000000</td>\n",
       "      <td>-3.937008</td>\n",
       "      <td>3.937008</td>\n",
       "      <td>0.007874</td>\n",
       "    </tr>\n",
       "    <tr>\n",
       "      <th>75%</th>\n",
       "      <td>25.443585</td>\n",
       "      <td>0.000000</td>\n",
       "      <td>0.000000</td>\n",
       "      <td>3.937008</td>\n",
       "      <td>0.007874</td>\n",
       "    </tr>\n",
       "    <tr>\n",
       "      <th>max</th>\n",
       "      <td>39.190000</td>\n",
       "      <td>31.496060</td>\n",
       "      <td>35.433070</td>\n",
       "      <td>377.952700</td>\n",
       "      <td>0.031496</td>\n",
       "    </tr>\n",
       "  </tbody>\n",
       "</table>\n",
       "</div>"
      ],
      "text/plain": [
       "               Time  Green_Channel_532nm  Raman_Channel_Detection_640nm  \\\n",
       "count  35840.000000         35840.000000                   35840.000000   \n",
       "mean      11.372035           -26.742212                     -25.460488   \n",
       "std       16.165574            89.871831                      80.234046   \n",
       "min      -16.800000          -496.063000                    -484.252000   \n",
       "25%       -2.556203            -7.874015                      -7.874015   \n",
       "50%       11.195000             0.000000                      -3.937008   \n",
       "75%       25.443585             0.000000                       0.000000   \n",
       "max       39.190000            31.496060                      35.433070   \n",
       "\n",
       "          Channel_1  Raman_Channel_Detection_660nm  \n",
       "count  35840.000000                   35840.000000  \n",
       "mean      10.250830                      -0.023757  \n",
       "std       38.529880                       0.110836  \n",
       "min      -23.622050                      -0.740158  \n",
       "25%        3.937008                       0.000000  \n",
       "50%        3.937008                       0.007874  \n",
       "75%        3.937008                       0.007874  \n",
       "max      377.952700                       0.031496  "
      ]
     },
     "execution_count": 14,
     "metadata": {},
     "output_type": "execute_result"
    }
   ],
   "source": [
    "#describe the dataframe\n",
    "Clean_dataframe.describe()"
   ]
  },
  {
   "cell_type": "code",
   "execution_count": 15,
   "id": "12410e55",
   "metadata": {},
   "outputs": [],
   "source": [
    "#Replace existing Raman_Channel_detection_660nm with the right units\n",
    "uniform_dataframe=Clean_dataframe.assign(Raman_Channel_Detection_660nm = Clean_dataframe['Raman_Channel_Detection_660nm']*1000)"
   ]
  },
  {
   "cell_type": "code",
   "execution_count": 16,
   "id": "3ca86a38",
   "metadata": {},
   "outputs": [],
   "source": [
    "#Setting the Time as the index column\n",
    "uniform_dataframe.set_index(\"Time\",drop=True,inplace=True)"
   ]
  },
  {
   "cell_type": "code",
   "execution_count": 17,
   "id": "a6d4ebd0",
   "metadata": {},
   "outputs": [
    {
     "data": {
      "text/html": [
       "<div>\n",
       "<style scoped>\n",
       "    .dataframe tbody tr th:only-of-type {\n",
       "        vertical-align: middle;\n",
       "    }\n",
       "\n",
       "    .dataframe tbody tr th {\n",
       "        vertical-align: top;\n",
       "    }\n",
       "\n",
       "    .dataframe thead th {\n",
       "        text-align: right;\n",
       "    }\n",
       "</style>\n",
       "<table border=\"1\" class=\"dataframe\">\n",
       "  <thead>\n",
       "    <tr style=\"text-align: right;\">\n",
       "      <th></th>\n",
       "      <th>Green_Channel_532nm</th>\n",
       "      <th>Raman_Channel_Detection_640nm</th>\n",
       "      <th>Channel_1</th>\n",
       "      <th>Raman_Channel_Detection_660nm</th>\n",
       "    </tr>\n",
       "    <tr>\n",
       "      <th>Time</th>\n",
       "      <th></th>\n",
       "      <th></th>\n",
       "      <th></th>\n",
       "      <th></th>\n",
       "    </tr>\n",
       "  </thead>\n",
       "  <tbody>\n",
       "    <tr>\n",
       "      <th>-16.109803</th>\n",
       "      <td>0.000000</td>\n",
       "      <td>-3.937008</td>\n",
       "      <td>7.874015</td>\n",
       "      <td>7.87402</td>\n",
       "    </tr>\n",
       "    <tr>\n",
       "      <th>-15.309803</th>\n",
       "      <td>0.000000</td>\n",
       "      <td>0.000000</td>\n",
       "      <td>3.937008</td>\n",
       "      <td>7.87402</td>\n",
       "    </tr>\n",
       "    <tr>\n",
       "      <th>-14.509803</th>\n",
       "      <td>0.000000</td>\n",
       "      <td>-3.937008</td>\n",
       "      <td>3.937008</td>\n",
       "      <td>7.87402</td>\n",
       "    </tr>\n",
       "    <tr>\n",
       "      <th>-13.709803</th>\n",
       "      <td>0.000000</td>\n",
       "      <td>-3.937008</td>\n",
       "      <td>3.937008</td>\n",
       "      <td>7.87402</td>\n",
       "    </tr>\n",
       "    <tr>\n",
       "      <th>-12.909803</th>\n",
       "      <td>-7.874015</td>\n",
       "      <td>-3.937008</td>\n",
       "      <td>3.937008</td>\n",
       "      <td>7.87402</td>\n",
       "    </tr>\n",
       "  </tbody>\n",
       "</table>\n",
       "</div>"
      ],
      "text/plain": [
       "            Green_Channel_532nm  Raman_Channel_Detection_640nm  Channel_1  \\\n",
       "Time                                                                        \n",
       "-16.109803             0.000000                      -3.937008   7.874015   \n",
       "-15.309803             0.000000                       0.000000   3.937008   \n",
       "-14.509803             0.000000                      -3.937008   3.937008   \n",
       "-13.709803             0.000000                      -3.937008   3.937008   \n",
       "-12.909803            -7.874015                      -3.937008   3.937008   \n",
       "\n",
       "            Raman_Channel_Detection_660nm  \n",
       "Time                                       \n",
       "-16.109803                        7.87402  \n",
       "-15.309803                        7.87402  \n",
       "-14.509803                        7.87402  \n",
       "-13.709803                        7.87402  \n",
       "-12.909803                        7.87402  "
      ]
     },
     "execution_count": 17,
     "metadata": {},
     "output_type": "execute_result"
    }
   ],
   "source": [
    "uniform_dataframe.head()"
   ]
  },
  {
   "cell_type": "code",
   "execution_count": 18,
   "id": "7b9720a2",
   "metadata": {},
   "outputs": [
    {
     "data": {
      "image/png": "[encoded data removed]",
      "text/plain": [
       "<Figure size 432x288 with 1 Axes>"
      ]
     },
     "metadata": {
      "needs_background": "light"
     },
     "output_type": "display_data"
    }
   ],
   "source": [
    "#Plot all against Time\n",
    "plot_columns = ['Green_Channel_532nm','Raman_Channel_Detection_640nm', 'Channel_1','Raman_Channel_Detection_660nm']\n",
    "uniform_dataframe[plot_columns].plot()\n",
    "\n",
    "plt.xlabel('Time')\n",
    "plt.ylabel('mV')\n",
    "plt.title('Recorded measurements for each channel')\n",
    "plt.show()"
   ]
  },
  {
   "cell_type": "code",
   "execution_count": 19,
   "id": "7646a3cc",
   "metadata": {},
   "outputs": [
    {
     "name": "stdout",
     "output_type": "stream",
     "text": [
      "Quick test, the max value of the last dataframe =  291.3386\n"
     ]
    }
   ],
   "source": [
    "#Split the large dataframe into 511 smaller dataframes\n",
    "def split_dataframe_by_position(df, splits):\n",
    "    dataframes = []\n",
    "    index_to_split = len(df) // splits\n",
    "    start = 0\n",
    "    end = index_to_split\n",
    "    for split in range(splits):\n",
    "        temporary_df = df.iloc[start:end, :]\n",
    "        dataframes.append(temporary_df)\n",
    "        start += index_to_split\n",
    "        end += index_to_split\n",
    "    return dataframes\n",
    "split_dataframes = split_dataframe_by_position(uniform_dataframe, 512)\n",
    "#Test if our split is working\n",
    "print('Quick test, the max value of the last dataframe = ',split_dataframes[511].Channel_1.max())"
   ]
  },
  {
   "cell_type": "code",
   "execution_count": 20,
   "id": "be2e6b12",
   "metadata": {},
   "outputs": [],
   "source": [
    "#For loop puts all the local Max Voltages into an empty list called localMaxVoltages and the Time of that occurance\n",
    "localMaxVoltage = []\n",
    "localMaxVoltageTime = []\n",
    "i = 0\n",
    "for i in range(0,511,1):\n",
    "    localMaxVoltage.append(split_dataframes[i].Channel_1.max())\n",
    "    localMaxVoltageTime.append(split_dataframes[i].Channel_1.idxmax())"
   ]
  },
  {
   "cell_type": "markdown",
   "id": "ef41b5e5",
   "metadata": {},
   "source": [
    "Great, we have now 2 lists, a list of the Maximum voltages of each laser pulse (in millivolts) and its corresponding time (in nanoseconds). Below we will analyse both of these lists, displaying their:\n",
    "- Length Count\n",
    "- Maximum\n",
    "- Minimum\n",
    "- Mean\n",
    "- Median\n",
    "- Standard Deviation"
   ]
  },
  {
   "cell_type": "code",
   "execution_count": 21,
   "id": "d1a6df74",
   "metadata": {},
   "outputs": [
    {
     "name": "stdout",
     "output_type": "stream",
     "text": [
      "Length of the list of Max Voltages: 511 \n",
      "Maximum of Max Voltages: 377.9527 mV\n",
      "Minimum of Max Voltages: 188.9764 mV\n",
      "Mean of Max Voltages: 285.27510528375734 mV\n",
      "Median of Max Voltages: 283.4645 mV\n",
      "Standard Deviation of Max voltages: 42.923942778492815 mV\n"
     ]
    }
   ],
   "source": [
    "#Quick analysis of the local Max Voltages for Channel 1\n",
    "print('Length of the list of Max Voltages: {0} '.format(len(localMaxVoltage)))\n",
    "print('Maximum of Max Voltages: {0} mV'.format(max(localMaxVoltage)))\n",
    "print('Minimum of Max Voltages: {0} mV'.format(min(localMaxVoltage)))\n",
    "print('Mean of Max Voltages: {0} mV'.format(stat.mean(localMaxVoltage)))\n",
    "print('Median of Max Voltages: {0} mV'.format(stat.median(localMaxVoltage)))\n",
    "print('Standard Deviation of Max voltages: {0} mV'.format(stat.stdev(localMaxVoltage)))"
   ]
  },
  {
   "cell_type": "code",
   "execution_count": 22,
   "id": "fb52c0b2",
   "metadata": {},
   "outputs": [
    {
     "name": "stdout",
     "output_type": "stream",
     "text": [
      "Length of the list of Time: 511 \n",
      "Maximum Time of Max Voltages: 1.5186451 ns\n",
      "Minimum Time of Max Voltages: 0.66086908 ns\n",
      "Time of Mean of Max Voltages: 1.0773110913894326 ns\n",
      "Time of Median of Max Voltages: 1.12000043 ns\n",
      "Standard Deviation of Time of Max voltages: 0.3012536075695389 ns\n"
     ]
    }
   ],
   "source": [
    "#Quick analysis of the time of local Max Voltages for Channel 1\n",
    "print('Length of the list of Time: {0} '.format(len(localMaxVoltageTime)))\n",
    "print('Maximum Time of Max Voltages: {0} ns'.format(max(localMaxVoltageTime)))\n",
    "print('Minimum Time of Max Voltages: {0} ns'.format(min(localMaxVoltageTime)))\n",
    "print('Time of Mean of Max Voltages: {0} ns'.format(stat.mean(localMaxVoltageTime)))\n",
    "print('Time of Median of Max Voltages: {0} ns'.format(stat.median(localMaxVoltageTime)))\n",
    "print('Standard Deviation of Time of Max voltages: {0} ns'.format(stat.stdev(localMaxVoltageTime)))"
   ]
  },
  {
   "cell_type": "code",
   "execution_count": 23,
   "id": "6ed94109",
   "metadata": {},
   "outputs": [
    {
     "data": {
      "image/png": "[encoded data removed]",
      "text/plain": [
       "<Figure size 432x288 with 1 Axes>"
      ]
     },
     "metadata": {
      "needs_background": "light"
     },
     "output_type": "display_data"
    }
   ],
   "source": [
    "#Scatterplot of the local Max Voltage value and its Time of occurance - Channel 1\n",
    "plt.scatter(localMaxVoltageTime,localMaxVoltage, c = 'g')\n",
    "\n",
    "plt.xlabel('Time of Occurance (ns)')\n",
    "plt.ylabel('Local Max Voltage (mV)')\n",
    "plt.title('Local Max Voltage and its Time of Occurance')\n",
    "plt.show()"
   ]
  },
  {
   "cell_type": "code",
   "execution_count": 24,
   "id": "d7b9b1e5",
   "metadata": {},
   "outputs": [
    {
     "data": {
      "image/png": "[encoded data removed]",
      "text/plain": [
       "<Figure size 1080x720 with 2 Axes>"
      ]
     },
     "metadata": {
      "needs_background": "light"
     },
     "output_type": "display_data"
    }
   ],
   "source": [
    "#Plot histogram of distribution in x and y axis of the plot above\n",
    "fig, axes = plt.subplots(nrows=2, ncols=1, figsize=(15,10))\n",
    "axes[0].hist(localMaxVoltage, bins=20, align = 'right', color='red', edgecolor='black', alpha = 0.5)\n",
    "axes[1].hist(localMaxVoltageTime, bins=20, align = 'left', color='blue', edgecolor='black', alpha = 0.5)\n",
    "\n",
    "axes[0].set(ylabel = 'Occurances',xlabel = 'Peaks in mV',title = 'Distribution of Maximum Voltages')\n",
    "axes[1].set(ylabel = 'Occurances',xlabel = 'Time of Peaks in ns',title = 'Distribution of Time')\n",
    "\n",
    "fig.tight_layout()\n",
    "plt.show()"
   ]
  },
  {
   "cell_type": "markdown",
   "id": "209dd6ed",
   "metadata": {},
   "source": [
    "#### Theory and data exploration\n",
    "Intuitively, our next analysis would be looking for a relation between the individual maximum peak values to the green channel peak. We expect that for a stronger laser pulse, the larger the signal of the green cahnnel thus creating a positive relationship between them.\n",
    "\n",
    "Having already split the data above, we simply needed to slightly modify the code to find the largest value for the green channel. It is important to note that all values be negative (or 0) as the gaussian is upside down proportional to channel 1, so we will need to absolute the minimum value to obtain the peak of the green channel."
   ]
  },
  {
   "cell_type": "code",
   "execution_count": 26,
   "id": "e61cbfee",
   "metadata": {},
   "outputs": [],
   "source": [
    "#For loop puts all the local Min Voltages into an empty list called localMinVoltages_GreenChannel \n",
    "#And the Time of that occurance for the Green Channel\n",
    "localMaxVoltage_GreenChannel = []\n",
    "localMaxVoltageTime_GreenChannel = []\n",
    "i = 0\n",
    "for i in range(0,511,1):\n",
    "    localMaxVoltage_GreenChannel.append(split_dataframes[i].Green_Channel_532nm.min())\n",
    "    localMaxVoltageTime_GreenChannel.append(split_dataframes[i].Green_Channel_532nm.idxmin())"
   ]
  },
  {
   "cell_type": "code",
   "execution_count": 27,
   "id": "85186134",
   "metadata": {},
   "outputs": [],
   "source": [
    "#Obtain absolute value of the arrays\n",
    "absoluteGreenChannel = np.array(localMaxVoltage_GreenChannel)*-1;"
   ]
  },
  {
   "cell_type": "code",
   "execution_count": 29,
   "id": "c2d09d99",
   "metadata": {},
   "outputs": [
    {
     "name": "stdout",
     "output_type": "stream",
     "text": [
      "Length of the list of Max Voltages for Green Channel: 511 \n",
      "Maximum of Max Voltages for Green Channel: 496.063 mV\n",
      "Minimum of Max Voltages for Green Channel: 448.8189 mV\n",
      "Mean of Max Voltages for Green Channel: 474.25918473581214 mV\n",
      "Median of Max Voltages for Green Channel: 476.3779 mV\n",
      "Standard Deviation of Max voltages for Green Channel: 10.414899182056164 mV\n"
     ]
    }
   ],
   "source": [
    "#Quick analysis of the local Max Voltages - Green Channel\n",
    "print('Length of the list of Max Voltages for Green Channel: {0} '.format(len(absoluteGreenChannel)))\n",
    "print('Maximum of Max Voltages for Green Channel: {0} mV'.format(max(absoluteGreenChannel)))\n",
    "print('Minimum of Max Voltages for Green Channel: {0} mV'.format(min(absoluteGreenChannel)))\n",
    "print('Mean of Max Voltages for Green Channel: {0} mV'.format(stat.mean(absoluteGreenChannel)))\n",
    "print('Median of Max Voltages for Green Channel: {0} mV'.format(stat.median(absoluteGreenChannel)))\n",
    "print('Standard Deviation of Max voltages for Green Channel: {0} mV'.format(stat.stdev(absoluteGreenChannel)))"
   ]
  },
  {
   "cell_type": "code",
   "execution_count": 30,
   "id": "eef659b4",
   "metadata": {},
   "outputs": [
    {
     "name": "stdout",
     "output_type": "stream",
     "text": [
      "Length of the list of Time for Green Channel: 511 \n",
      "Maximum Time of Min Voltages for Green Channel: 4.37647085 ns\n",
      "Minimum Time of Min Voltages for Green Channel: 3.34545386 ns\n",
      "Time of Mean of Min Voltages for Green Channel: 3.8358238474168296 ns\n",
      "Time of Median of Min Voltages for Green Channel: 3.87272808 ns\n",
      "Standard Deviation of Time of Min voltages for Green Channel: 0.17571748651906938 ns\n"
     ]
    }
   ],
   "source": [
    "#Quick analysis of the time of local Min Voltages - Green Channel\n",
    "print('Length of the list of Time for Green Channel: {0} '.format(len(localMaxVoltageTime_GreenChannel)))\n",
    "print('Maximum Time of Min Voltages for Green Channel: {0} ns'.format(max(localMaxVoltageTime_GreenChannel)))\n",
    "print('Minimum Time of Min Voltages for Green Channel: {0} ns'.format(min(localMaxVoltageTime_GreenChannel)))\n",
    "print('Time of Mean of Min Voltages for Green Channel: {0} ns'.format(stat.mean(localMaxVoltageTime_GreenChannel)))\n",
    "print('Time of Median of Min Voltages for Green Channel: {0} ns'.format(stat.median(localMaxVoltageTime_GreenChannel)))\n",
    "print('Standard Deviation of Time of Min voltages for Green Channel: {0} ns'.format(stat.stdev(localMaxVoltageTime_GreenChannel)))"
   ]
  },
  {
   "cell_type": "code",
   "execution_count": 31,
   "id": "acf0b188",
   "metadata": {},
   "outputs": [
    {
     "data": {
      "image/png": "[encoded data removed]",
      "text/plain": [
       "<Figure size 432x288 with 1 Axes>"
      ]
     },
     "metadata": {
      "needs_background": "light"
     },
     "output_type": "display_data"
    }
   ],
   "source": [
    "#Scatterplot of the local Max Voltage value and its Time of occurance for Green Channel\n",
    "plt.scatter(localMaxVoltage,absoluteGreenChannel, c = 'y')\n",
    "\n",
    "plt.xlabel('Green Pulse (mV)')\n",
    "plt.ylabel('Residual Green Light (mV)')\n",
    "plt.title('Local Max Voltage of Residual Light vs Local Max Voltage of Green Pulse')\n",
    "plt.show()"
   ]
  },
  {
   "cell_type": "code",
   "execution_count": 32,
   "id": "f01dccfc",
   "metadata": {},
   "outputs": [
    {
     "data": {
      "image/png": "[encoded data removed]",
      "text/plain": [
       "<Figure size 432x288 with 1 Axes>"
      ]
     },
     "metadata": {
      "needs_background": "light"
     },
     "output_type": "display_data"
    }
   ],
   "source": [
    "#Scatterplot of the local Max Voltage value and its Time of occurance for the Residual Light\n",
    "plt.scatter(localMaxVoltageTime_GreenChannel,absoluteGreenChannel, c = 'b')\n",
    "\n",
    "plt.xlabel('Time of Occurance (ns)')\n",
    "plt.ylabel('Local Max Voltage (mV)')\n",
    "plt.title('Local Max Voltage and its Time of Occurance for Residual Light')\n",
    "plt.show()"
   ]
  },
  {
   "cell_type": "code",
   "execution_count": null,
   "id": "7a3d9a58",
   "metadata": {},
   "outputs": [],
   "source": []
  }
 ],
 "metadata": {
  "kernelspec": {
   "display_name": "Python 3",
   "language": "python",
   "name": "python3"
  },
  "language_info": {
   "codemirror_mode": {
    "name": "ipython",
    "version": 3
   },
   "file_extension": ".py",
   "mimetype": "text/x-python",
   "name": "python",
   "nbconvert_exporter": "python",
   "pygments_lexer": "ipython3",
   "version": "3.8.8"
  }
 },
 "nbformat": 4,
 "nbformat_minor": 5
}
