{
 "cells": [
  {
   "cell_type": "code",
   "execution_count": 1,
   "id": "91beaae3",
   "metadata": {},
   "outputs": [],
   "source": [
    "#import useful files\n",
    "import statistics as stat\n",
    "import numpy as np\n",
    "import pandas as pd\n",
    "import glob\n",
    "import seaborn as sns\n",
    "import matplotlib.ticker as mtick\n",
    "from matplotlib import pyplot as plt\n",
    "%matplotlib inline"
   ]
  },
  {
   "cell_type": "code",
   "execution_count": 2,
   "id": "dc7bc7cb",
   "metadata": {},
   "outputs": [],
   "source": [
    "#file path with glob\n",
    "path = \"Tektronix_data/\"\n",
    "all_files = glob.glob(path + \"*.csv\")"
   ]
  },
  {
   "cell_type": "code",
   "execution_count": 3,
   "id": "4514610a",
   "metadata": {},
   "outputs": [],
   "source": [
    "#turn all 512 files into lists\n",
    "var = [pd.read_csv(filename,index_col=None,header=0,skiprows=17) for filename in all_files]"
   ]
  },
  {
   "cell_type": "code",
   "execution_count": 4,
   "id": "0f843002",
   "metadata": {},
   "outputs": [],
   "source": [
    "#concat all lists and turn into 1 big dataframe\n",
    "dataframe = pd.concat(var,axis=0,ignore_index=True)"
   ]
  },
  {
   "cell_type": "code",
   "execution_count": 5,
   "id": "2d3fb74c",
   "metadata": {},
   "outputs": [],
   "source": [
    "#renaming the headers (they came as Channel 1,2,3,4 - need to know what they represent)\n",
    "rename = ['Time','Excitation_Pulse','Raman_Channel_Detection_640nm','Raman_Channel_Detection_660nm','Green_Return_532nm']\n",
    "dataframe.columns = rename"
   ]
  },
  {
   "cell_type": "code",
   "execution_count": 6,
   "id": "53bd7cd6",
   "metadata": {},
   "outputs": [
    {
     "data": {
      "text/html": [
       "<div>\n",
       "<style scoped>\n",
       "    .dataframe tbody tr th:only-of-type {\n",
       "        vertical-align: middle;\n",
       "    }\n",
       "\n",
       "    .dataframe tbody tr th {\n",
       "        vertical-align: top;\n",
       "    }\n",
       "\n",
       "    .dataframe thead th {\n",
       "        text-align: right;\n",
       "    }\n",
       "</style>\n",
       "<table border=\"1\" class=\"dataframe\">\n",
       "  <thead>\n",
       "    <tr style=\"text-align: right;\">\n",
       "      <th></th>\n",
       "      <th>Time</th>\n",
       "      <th>Excitation_Pulse</th>\n",
       "      <th>Raman_Channel_Detection_640nm</th>\n",
       "      <th>Raman_Channel_Detection_660nm</th>\n",
       "      <th>Green_Return_532nm</th>\n",
       "    </tr>\n",
       "  </thead>\n",
       "  <tbody>\n",
       "    <tr>\n",
       "      <th>0</th>\n",
       "      <td>-9.430000e-08</td>\n",
       "      <td>-0.004</td>\n",
       "      <td>0.002</td>\n",
       "      <td>-4.000000e-03</td>\n",
       "      <td>0.008</td>\n",
       "    </tr>\n",
       "    <tr>\n",
       "      <th>1</th>\n",
       "      <td>-9.410000e-08</td>\n",
       "      <td>-0.004</td>\n",
       "      <td>-0.002</td>\n",
       "      <td>4.440890e-17</td>\n",
       "      <td>0.008</td>\n",
       "    </tr>\n",
       "    <tr>\n",
       "      <th>2</th>\n",
       "      <td>-9.390000e-08</td>\n",
       "      <td>-0.004</td>\n",
       "      <td>-0.010</td>\n",
       "      <td>-8.000000e-03</td>\n",
       "      <td>0.004</td>\n",
       "    </tr>\n",
       "    <tr>\n",
       "      <th>3</th>\n",
       "      <td>-9.370000e-08</td>\n",
       "      <td>-0.012</td>\n",
       "      <td>-0.002</td>\n",
       "      <td>-8.000000e-03</td>\n",
       "      <td>0.008</td>\n",
       "    </tr>\n",
       "    <tr>\n",
       "      <th>4</th>\n",
       "      <td>-9.350000e-08</td>\n",
       "      <td>-0.004</td>\n",
       "      <td>-0.010</td>\n",
       "      <td>-4.000000e-03</td>\n",
       "      <td>0.008</td>\n",
       "    </tr>\n",
       "  </tbody>\n",
       "</table>\n",
       "</div>"
      ],
      "text/plain": [
       "           Time  Excitation_Pulse  Raman_Channel_Detection_640nm  \\\n",
       "0 -9.430000e-08            -0.004                          0.002   \n",
       "1 -9.410000e-08            -0.004                         -0.002   \n",
       "2 -9.390000e-08            -0.004                         -0.010   \n",
       "3 -9.370000e-08            -0.012                         -0.002   \n",
       "4 -9.350000e-08            -0.004                         -0.010   \n",
       "\n",
       "   Raman_Channel_Detection_660nm  Green_Return_532nm  \n",
       "0                  -4.000000e-03               0.008  \n",
       "1                   4.440890e-17               0.008  \n",
       "2                  -8.000000e-03               0.004  \n",
       "3                  -8.000000e-03               0.008  \n",
       "4                  -4.000000e-03               0.008  "
      ]
     },
     "execution_count": 6,
     "metadata": {},
     "output_type": "execute_result"
    }
   ],
   "source": [
    "dataframe.head()"
   ]
  },
  {
   "cell_type": "code",
   "execution_count": 7,
   "id": "6d9500ae",
   "metadata": {},
   "outputs": [],
   "source": [
    "#change the data type\n",
    "Clean_dataframe = dataframe.astype(float)"
   ]
  },
  {
   "cell_type": "code",
   "execution_count": 8,
   "id": "d509c690",
   "metadata": {},
   "outputs": [],
   "source": [
    "uniform_dataframe=Clean_dataframe.assign(Time = Clean_dataframe['Time']*1e9)"
   ]
  },
  {
   "cell_type": "code",
   "execution_count": 9,
   "id": "f561b75b",
   "metadata": {},
   "outputs": [],
   "source": [
    "#Setting the Time as the index column\n",
    "uniform_dataframe.set_index(\"Time\",drop=True,inplace=True)"
   ]
  },
  {
   "cell_type": "code",
   "execution_count": 10,
   "id": "78aa4007",
   "metadata": {},
   "outputs": [
    {
     "data": {
      "image/png": "[encoded data removed]",
      "text/plain": [
       "<Figure size 432x288 with 1 Axes>"
      ]
     },
     "metadata": {
      "needs_background": "light"
     },
     "output_type": "display_data"
    }
   ],
   "source": [
    "#Plot all columns against Time\n",
    "plot_columns = ['Excitation_Pulse','Raman_Channel_Detection_640nm','Raman_Channel_Detection_660nm','Green_Return_532nm']\n",
    "uniform_dataframe[plot_columns].plot()\n",
    "\n",
    "plt.xlabel('Time')\n",
    "plt.ylabel('V')\n",
    "plt.title('Recorded measurements for each channel')\n",
    "plt.show()"
   ]
  },
  {
   "cell_type": "markdown",
   "id": "369e3a18",
   "metadata": {},
   "source": [
    "### Calculating averages and SD's"
   ]
  },
  {
   "cell_type": "code",
   "execution_count": 11,
   "id": "ecb7944d",
   "metadata": {},
   "outputs": [
    {
     "name": "stdout",
     "output_type": "stream",
     "text": [
      "Quick test, the max value of the last dataframe =  0.34 V\n"
     ]
    }
   ],
   "source": [
    "#Split the large dataframe into 512 smaller dataframes\n",
    "def split_dataframe_by_position(df, splits):\n",
    "    dataframes = []\n",
    "    index_to_split = len(df) // splits\n",
    "    start = 0\n",
    "    end = index_to_split\n",
    "    for split in range(splits):\n",
    "        temporary_df = df.iloc[start:end, :]\n",
    "        dataframes.append(temporary_df)\n",
    "        start += index_to_split\n",
    "        end += index_to_split\n",
    "    return dataframes\n",
    "split_dataframes = split_dataframe_by_position(uniform_dataframe, 512)\n",
    "#Test if our split is working\n",
    "print('Quick test, the max value of the last dataframe = ',split_dataframes[511].Excitation_Pulse.max(),'V')"
   ]
  },
  {
   "cell_type": "code",
   "execution_count": 12,
   "id": "dda30830",
   "metadata": {},
   "outputs": [],
   "source": [
    "#Create code that returns the FWHM value and its 2 locations (time duration)\n",
    "def FWHM_time_duration(X,Y):\n",
    "    half_max = max(Y) / 2.\n",
    "    #find the full width at half maxima, we choose denominator to be 2\n",
    "    #if we want full width at tenth maxima, we choose it to be 10 \n",
    "    frac = 2\n",
    "    d = Y - (max(Y) / frac) \n",
    "    #locate and subtract the 2 points in x axis (which is difference in time) for FWHM duration\n",
    "    indexes = np.where(d > 0)[0]\n",
    "    return abs(X[indexes[-1]] - X[indexes[0]])\n",
    "\n",
    "def FWHM_value(Y):\n",
    "    FWHM = max(Y)/2\n",
    "    return FWHM"
   ]
  },
  {
   "cell_type": "markdown",
   "id": "fc0db1df",
   "metadata": {},
   "source": [
    "### Results for Excitation Pulse"
   ]
  },
  {
   "cell_type": "code",
   "execution_count": 13,
   "id": "cbdba9fc",
   "metadata": {},
   "outputs": [],
   "source": [
    "#For loop puts all the local Max Voltages into an empty list called localMaxVoltages, the Time of that occurance and\n",
    "#FWHM values\n",
    "localMaxVoltage_ExcitationPulse = []\n",
    "localMaxVoltageTime_ExcitationPulse = []\n",
    "pulseDurations_ExcitationPulse = []\n",
    "FWHM_values_ExcitationPulse = []\n",
    "\n",
    "i = 0\n",
    "for i in range(0,512,1):\n",
    "    localMaxVoltage_ExcitationPulse.append(split_dataframes[i].Excitation_Pulse.max())\n",
    "    localMaxVoltageTime_ExcitationPulse.append(split_dataframes[i].Excitation_Pulse.idxmax())\n",
    "    pulseDurations_ExcitationPulse.append(FWHM_time_duration(split_dataframes[i].index,split_dataframes[i].Excitation_Pulse))\n",
    "    FWHM_values_ExcitationPulse.append(FWHM_value(split_dataframes[i].Excitation_Pulse))"
   ]
  },
  {
   "cell_type": "code",
   "execution_count": 14,
   "id": "96e1e109",
   "metadata": {},
   "outputs": [
    {
     "name": "stdout",
     "output_type": "stream",
     "text": [
      "Average maximum of the pulse for Excitation Pulse = 0.3319609375 V\n",
      "Average time of occurance of the max pulse for Excitation Pulse = 0.2855468749999999 ns\n",
      "Average pulse duration for Excitation Pulse = 0.5347656249999999 ns\n",
      "Average value for the FWHM for Excitation Pulse = 0.16598046875 V\n"
     ]
    }
   ],
   "source": [
    "print('Average maximum of the pulse for Excitation Pulse = {0} V'.format(np.average(localMaxVoltage_ExcitationPulse)))\n",
    "print('Average time of occurance of the max pulse for Excitation Pulse = {0} ns'.format(np.average(localMaxVoltageTime_ExcitationPulse)))\n",
    "print('Average pulse duration for Excitation Pulse = {0} ns'.format(np.average(pulseDurations_ExcitationPulse)))\n",
    "print('Average value for the FWHM for Excitation Pulse = {0} V'.format(np.average(FWHM_values_ExcitationPulse)))"
   ]
  },
  {
   "cell_type": "code",
   "execution_count": 15,
   "id": "9dcb21da",
   "metadata": {},
   "outputs": [
    {
     "name": "stdout",
     "output_type": "stream",
     "text": [
      "Standard deviation for the maximum of the pulse for Excitation Pulse = 0.009163363144669848 V\n",
      "Standard deviation for time of occurance of the max pulse for Excitation Pulse = 0.05612915621790849 ns\n",
      "Standard deviation of pulse duration for Excitation Pulse = 0.09376220623662485 ns\n",
      "Standard deviation of value for the FWHM for Excitation Pulse = 0.004581681572334924 V\n"
     ]
    }
   ],
   "source": [
    "print('Standard deviation for the maximum of the pulse for Excitation Pulse = {0} V'.format(np.std(localMaxVoltage_ExcitationPulse)))\n",
    "print('Standard deviation for time of occurance of the max pulse for Excitation Pulse = {0} ns'.format(np.std(localMaxVoltageTime_ExcitationPulse)))\n",
    "print('Standard deviation of pulse duration for Excitation Pulse = {0} ns'.format(np.std(pulseDurations_ExcitationPulse)))\n",
    "print('Standard deviation of value for the FWHM for Excitation Pulse = {0} V'.format(np.std(FWHM_values_ExcitationPulse)))"
   ]
  },
  {
   "cell_type": "markdown",
   "id": "3a8b6b19",
   "metadata": {},
   "source": [
    "### Results for Green Return"
   ]
  },
  {
   "cell_type": "code",
   "execution_count": 16,
   "id": "ad29f844",
   "metadata": {},
   "outputs": [],
   "source": [
    "#For loop puts all the local Max Voltages into an empty list called localMaxVoltages, the Time of that occurance and\n",
    "#FWHM values\n",
    "localMaxVoltage_greenReturn = []\n",
    "localMaxVoltageTime_greenReturn = []\n",
    "pulseDurations_greenReturn = []\n",
    "FWHM_values_greenReturn = []\n",
    "\n",
    "i = 0\n",
    "for i in range(0,512,1):\n",
    "    localMaxVoltage_greenReturn.append(split_dataframes[i].Green_Return_532nm.max())\n",
    "    localMaxVoltageTime_greenReturn.append(split_dataframes[i].Green_Return_532nm.idxmax())\n",
    "    pulseDurations_greenReturn.append(FWHM_time_duration(split_dataframes[i].index,split_dataframes[i].Green_Return_532nm))\n",
    "    FWHM_values_greenReturn.append(FWHM_value(split_dataframes[i].Green_Return_532nm))"
   ]
  },
  {
   "cell_type": "code",
   "execution_count": 17,
   "id": "2c8f36ed",
   "metadata": {},
   "outputs": [
    {
     "name": "stdout",
     "output_type": "stream",
     "text": [
      "Average maximum of the pulse for Green Return 532nm = 0.5541250000000002 V\n",
      "Average time of occurance of the max pulse for Green Return 532nm = 3.1406250000000004 ns\n",
      "Average pulse duration for Green Return 532nm = 2.69296875 ns\n",
      "Average value for the FWHM for Green Return 532nm = 0.2770625000000001 V\n"
     ]
    }
   ],
   "source": [
    "print('Average maximum of the pulse for Green Return 532nm = {0} V'.format(np.average(localMaxVoltage_greenReturn)))\n",
    "print('Average time of occurance of the max pulse for Green Return 532nm = {0} ns'.format(np.average(localMaxVoltageTime_greenReturn)))\n",
    "print('Average pulse duration for Green Return 532nm = {0} ns'.format(np.average(pulseDurations_greenReturn)))\n",
    "print('Average value for the FWHM for Green Return 532nm = {0} V'.format(np.average(FWHM_values_greenReturn)))"
   ]
  },
  {
   "cell_type": "code",
   "execution_count": 18,
   "id": "7ac5771a",
   "metadata": {},
   "outputs": [
    {
     "name": "stdout",
     "output_type": "stream",
     "text": [
      "Standard deviation for the maximum of the pulse for Green Return 532nm = 0.004121210380458633 V\n",
      "Standard deviation for time of occurance of the max pulse for Green Return 532nm = 0.1071196031312664 ns\n",
      "Standard deviation of pulse duration for Green Return 532nm = 0.09975250133925205 ns\n",
      "Standard deviation of value for the FWHM for Green Return 532nm = 0.0020606051902293163 V\n"
     ]
    }
   ],
   "source": [
    "print('Standard deviation for the maximum of the pulse for Green Return 532nm = {0} V'.format(np.std(localMaxVoltage_greenReturn)))\n",
    "print('Standard deviation for time of occurance of the max pulse for Green Return 532nm = {0} ns'.format(np.std(localMaxVoltageTime_greenReturn)))\n",
    "print('Standard deviation of pulse duration for Green Return 532nm = {0} ns'.format(np.std(pulseDurations_greenReturn)))\n",
    "print('Standard deviation of value for the FWHM for Green Return 532nm = {0} V'.format(np.std(FWHM_values_greenReturn)))"
   ]
  },
  {
   "cell_type": "markdown",
   "id": "2a681b7f",
   "metadata": {},
   "source": [
    "### Results for Raman Channel 660nm"
   ]
  },
  {
   "cell_type": "code",
   "execution_count": 19,
   "id": "f26e8ef0",
   "metadata": {},
   "outputs": [],
   "source": [
    "#For loop puts all the local Max Voltages into an empty list called localMaxVoltages, the Time of that occurance and\n",
    "#FWHM values\n",
    "localMaxVoltage_ramanChannel660nm = []\n",
    "localMaxVoltageTime_ramanChannel660nm = []\n",
    "pulseDurations_ramanChannel660nm = []\n",
    "FWHM_values_ramanChannel660nm = []\n",
    "\n",
    "i = 0\n",
    "for i in range(0,512,1):\n",
    "    localMaxVoltage_ramanChannel660nm.append(split_dataframes[i].Raman_Channel_Detection_660nm.max())\n",
    "    localMaxVoltageTime_ramanChannel660nm.append(split_dataframes[i].Raman_Channel_Detection_660nm.idxmax())\n",
    "    pulseDurations_ramanChannel660nm.append(FWHM_time_duration(split_dataframes[i].index,split_dataframes[i].Raman_Channel_Detection_660nm))\n",
    "    FWHM_values_ramanChannel660nm.append(FWHM_value(split_dataframes[i].Raman_Channel_Detection_660nm))"
   ]
  },
  {
   "cell_type": "code",
   "execution_count": 20,
   "id": "e9532eb3",
   "metadata": {},
   "outputs": [
    {
     "name": "stdout",
     "output_type": "stream",
     "text": [
      "Average maximum of the pulse for Raman Channel 660nm = 0.49687499999999996 V\n",
      "Average time of occurance of the max pulse for Raman Channel 660nm = 4.247265624999999 ns\n",
      "Average pulse duration for Raman Channel 660nm = 1.9585937500000001 ns\n",
      "Average value for the FWHM for Raman Channel 660nm = 0.24843749999999998 V\n"
     ]
    }
   ],
   "source": [
    "print('Average maximum of the pulse for Raman Channel 660nm = {0} V'.format(np.average(localMaxVoltage_ramanChannel660nm)))\n",
    "print('Average time of occurance of the max pulse for Raman Channel 660nm = {0} ns'.format(np.average(localMaxVoltageTime_ramanChannel660nm)))\n",
    "print('Average pulse duration for Raman Channel 660nm = {0} ns'.format(np.average(pulseDurations_ramanChannel660nm)))\n",
    "print('Average value for the FWHM for Raman Channel 660nm = {0} V'.format(np.average(FWHM_values_ramanChannel660nm)))"
   ]
  },
  {
   "cell_type": "code",
   "execution_count": 21,
   "id": "e6ac81e6",
   "metadata": {},
   "outputs": [
    {
     "name": "stdout",
     "output_type": "stream",
     "text": [
      "Standard deviation for the maximum of the pulse for Raman Channel 660nm = 0.014273555093248503 V\n",
      "Standard deviation for time of occurance of the max pulse for Raman Channel 660nm = 0.09738947937718591 ns\n",
      "Standard deviation of pulse duration for Raman Channel 660nm = 0.0875244106574701 ns\n",
      "Standard deviation of value for the FWHM for Raman Channel 660nm = 0.0071367775466242515 V\n"
     ]
    }
   ],
   "source": [
    "print('Standard deviation for the maximum of the pulse for Raman Channel 660nm = {0} V'.format(np.std(localMaxVoltage_ramanChannel660nm)))\n",
    "print('Standard deviation for time of occurance of the max pulse for Raman Channel 660nm = {0} ns'.format(np.std(localMaxVoltageTime_ramanChannel660nm)))\n",
    "print('Standard deviation of pulse duration for Raman Channel 660nm = {0} ns'.format(np.std(pulseDurations_ramanChannel660nm)))\n",
    "print('Standard deviation of value for the FWHM for Raman Channel 660nm = {0} V'.format(np.std(FWHM_values_ramanChannel660nm)))"
   ]
  },
  {
   "cell_type": "markdown",
   "id": "98d1fa8f",
   "metadata": {},
   "source": [
    "### Results for Raman Channel 640nm"
   ]
  },
  {
   "cell_type": "code",
   "execution_count": 22,
   "id": "022335fb",
   "metadata": {},
   "outputs": [],
   "source": [
    "#For loop puts all the local Max Voltages into an empty list called localMaxVoltages, the Time of that occurance and\n",
    "#FWHM values\n",
    "localMaxVoltage_ramanChannel640nm = []\n",
    "localMaxVoltageTime_ramanChannel640nm = []\n",
    "pulseDurations_ramanChannel640nm = []\n",
    "FWHM_values_ramanChannel640nm = []\n",
    "\n",
    "i = 0\n",
    "for i in range(0,512,1):\n",
    "    localMaxVoltage_ramanChannel640nm.append(split_dataframes[i].Raman_Channel_Detection_640nm.max())\n",
    "    localMaxVoltageTime_ramanChannel640nm.append(split_dataframes[i].Raman_Channel_Detection_640nm.idxmax())\n",
    "    pulseDurations_ramanChannel640nm.append(FWHM_time_duration(split_dataframes[i].index,split_dataframes[i].Raman_Channel_Detection_640nm))\n",
    "    FWHM_values_ramanChannel640nm.append(FWHM_value(split_dataframes[i].Raman_Channel_Detection_640nm))"
   ]
  },
  {
   "cell_type": "code",
   "execution_count": 23,
   "id": "409f643d",
   "metadata": {},
   "outputs": [
    {
     "name": "stdout",
     "output_type": "stream",
     "text": [
      "Average maximum of the pulse for Raman Channel 640nm = 0.40225 V\n",
      "Average time of occurance of the max pulse for Raman Channel 640nm = 4.285937499999999 ns\n",
      "Average pulse duration for Raman Channel 640nm = 2.1082031249999997 ns\n",
      "Average value for the FWHM for Raman Channel 640nm = 0.201125 V\n"
     ]
    }
   ],
   "source": [
    "print('Average maximum of the pulse for Raman Channel 640nm = {0} V'.format(np.average(localMaxVoltage_ramanChannel640nm)))\n",
    "print('Average time of occurance of the max pulse for Raman Channel 640nm = {0} ns'.format(np.average(localMaxVoltageTime_ramanChannel640nm)))\n",
    "print('Average pulse duration for Raman Channel 640nm = {0} ns'.format(np.average(pulseDurations_ramanChannel640nm)))\n",
    "print('Average value for the FWHM for Raman Channel 640nm = {0} V'.format(np.average(FWHM_values_ramanChannel640nm)))"
   ]
  },
  {
   "cell_type": "code",
   "execution_count": 24,
   "id": "d7bb6f35",
   "metadata": {},
   "outputs": [
    {
     "name": "stdout",
     "output_type": "stream",
     "text": [
      "Standard deviation for the maximum of the pulse for Raman Channel 640nm = 0.008689073598491373 V\n",
      "Standard deviation for time of occurance of the max pulse for Raman Channel 640nm = 0.10057209401096293 ns\n",
      "Standard deviation of pulse duration for Raman Channel 640nm = 0.09966297577452887 ns\n",
      "Standard deviation of value for the FWHM for Raman Channel 640nm = 0.0043445367992456865 V\n"
     ]
    }
   ],
   "source": [
    "print('Standard deviation for the maximum of the pulse for Raman Channel 640nm = {0} V'.format(np.std(localMaxVoltage_ramanChannel640nm)))\n",
    "print('Standard deviation for time of occurance of the max pulse for Raman Channel 640nm = {0} ns'.format(np.std(localMaxVoltageTime_ramanChannel640nm)))\n",
    "print('Standard deviation of pulse duration for Raman Channel 640nm = {0} ns'.format(np.std(pulseDurations_ramanChannel640nm)))\n",
    "print('Standard deviation of value for the FWHM for Raman Channel 640nm = {0} V'.format(np.std(FWHM_values_ramanChannel640nm)))"
   ]
  },
  {
   "cell_type": "markdown",
   "id": "86443de8",
   "metadata": {},
   "source": [
    "### Sampling Rates\n",
    "\n",
    "**Sampling rate of our Oscilloscope DPO4104B :** 5GigaSamples/s across 4 channels. This is constant, no change in sample rate e.g. 1 channel has sampling rate of 5GS/s aswell.\n",
    "\n",
    "Proof below:\n",
    "<img src=\"2.5GS sampling for Oscilloscope DPO4104B.PNG\" alt=\"drawing\" width=\"2500\"/>\n",
    "\n",
    "Taken from __[DPO4000 Series DataSheet](https://au.mouser.com/datasheet/2/403/MSO4000_DPO4000_Mixed_Signal_Oscilloscope_Datashee-2308128.pdf)__ \n",
    "\n",
    "\n",
    "**Sampling rate of Picoscope 6:** 5GS/s for 1 channel, but scales with active channels, down to 1.25GS/s for 4 channels.\n",
    "\n",
    "Proof below:\n",
    "<img src=\"1.25GS sampling for Picoscope 6404C.PNG\" alt=\"drawing\" width=\"3000\"/> \n",
    "\n",
    "Taken from __[PicoScope Manual](https://www.farnell.com/datasheets/2162834.pdf)__"
   ]
  },
  {
   "cell_type": "markdown",
   "id": "5175ebee",
   "metadata": {},
   "source": [
    "### Correlation"
   ]
  },
  {
   "cell_type": "code",
   "execution_count": 25,
   "id": "7c8278a9",
   "metadata": {},
   "outputs": [
    {
     "data": {
      "image/png": "[encoded data removed]",
      "text/plain": [
       "<Figure size 720x720 with 4 Axes>"
      ]
     },
     "metadata": {
      "needs_background": "light"
     },
     "output_type": "display_data"
    }
   ],
   "source": [
    "#Channel 1 vs other Channels Voltage Peaks\n",
    "fig, ([ax1,ax2],[ax3,ax4]) = plt.subplots(nrows=2,ncols=2,figsize=(10,10))\n",
    "\n",
    "ax1.scatter(localMaxVoltage_ExcitationPulse,localMaxVoltage_ExcitationPulse, c='blue')\n",
    "ax1.set_title('Excitation Pulse vs Excitation Pulse')\n",
    "ax1.set(xlabel = 'Excitation Pulse', ylabel = 'Excitation Pulse')\n",
    "\n",
    "ax2.scatter(localMaxVoltage_ExcitationPulse,localMaxVoltage_greenReturn, c='green')\n",
    "ax2.set_title('Excitation Pulse vs Green Return')\n",
    "ax2.set(xlabel = 'Excitation Pulse', ylabel = 'Green Return')\n",
    "\n",
    "ax3.scatter(localMaxVoltage_ExcitationPulse,localMaxVoltage_ramanChannel660nm, c='red')\n",
    "ax3.set_title('Excitation Pulse vs Raman Channel 660nm')\n",
    "ax3.set(xlabel = 'Excitation Pulse', ylabel = 'Raman Channel 660nm')\n",
    "\n",
    "ax4.scatter(localMaxVoltage_ExcitationPulse,localMaxVoltage_ramanChannel640nm, c='orange')\n",
    "ax4.set_title('Excitation Pulse vs Raman Channel 640nm')\n",
    "ax4.set(xlabel = 'Excitation Pulse', ylabel = 'Raman Channel 640nm')\n",
    "\n",
    "fig.suptitle('Excitation Pulse vs other Channels Voltage Peaks', fontsize=25)\n",
    "plt.tight_layout()\n",
    "plt.show()"
   ]
  },
  {
   "cell_type": "markdown",
   "id": "2d2e1f17",
   "metadata": {},
   "source": [
    "Thinking a little further into this mess, perhaps many of the points are in a linear line (overlapping) and the cloud shape is only given due to small uncertainties in measurements. It is possible as there are much less than 512 datapoints on all the graphs (especially the Excitation Pulse vs Excitation Pulse)."
   ]
  },
  {
   "cell_type": "code",
   "execution_count": 26,
   "id": "7b6a2b67",
   "metadata": {},
   "outputs": [
    {
     "data": {
      "image/png": "[encoded data removed]",
      "text/plain": [
       "<Figure size 720x720 with 4 Axes>"
      ]
     },
     "metadata": {
      "needs_background": "light"
     },
     "output_type": "display_data"
    }
   ],
   "source": [
    "#Channel 1 vs other Channels Voltage Peaks - Time of Occurance\n",
    "fig, ([ax1,ax2],[ax3,ax4]) = plt.subplots(nrows=2,ncols=2,figsize=(10,10))\n",
    "\n",
    "ax1.scatter(localMaxVoltageTime_ExcitationPulse,localMaxVoltage_ExcitationPulse, c='blue')\n",
    "ax1.set_title('Excitation Pulse vs Excitation Pulse')\n",
    "ax1.set(xlabel = 'Excitation Pulse', ylabel = 'Excitation Pulse')\n",
    "\n",
    "ax2.scatter(localMaxVoltageTime_ExcitationPulse,localMaxVoltage_greenReturn, c='green')\n",
    "ax2.set_title('Excitation Pulse vs Green Channel')\n",
    "ax2.set(xlabel = 'Excitation Pulse', ylabel = 'Green Return')\n",
    "\n",
    "ax3.scatter(localMaxVoltageTime_ExcitationPulse,localMaxVoltage_ramanChannel660nm, c='red')\n",
    "ax3.set_title('Excitation Pulse vs Raman Channel 660nm')\n",
    "ax3.set(xlabel = 'Excitation Pulse', ylabel = 'Raman Channel 660nm')\n",
    "\n",
    "ax4.scatter(localMaxVoltageTime_ExcitationPulse,localMaxVoltage_ramanChannel640nm, c='orange')\n",
    "ax4.set_title('Excitation Pulse vs Raman Channel 640nm ')\n",
    "ax4.set(xlabel = 'Excitation Pulse', ylabel = 'Raman Channel 640nm')\n",
    "\n",
    "fig.suptitle('Excitation Pulse vs other Channels Voltage Peaks - Time of Occurance', fontsize=25)\n",
    "plt.tight_layout()\n",
    "plt.show()"
   ]
  },
  {
   "cell_type": "markdown",
   "id": "38f4ccb8",
   "metadata": {},
   "source": [
    "Quantisation is normal because its the sampling of the oscilloscope, it samples every $x$ seconds"
   ]
  },
  {
   "cell_type": "markdown",
   "id": "860ba68d",
   "metadata": {},
   "source": [
    "### Ringing && Sampling plotting"
   ]
  },
  {
   "cell_type": "code",
   "execution_count": 27,
   "id": "46d6696a",
   "metadata": {},
   "outputs": [],
   "source": [
    "#file path with glob\n",
    "path = \"Tektronix_data/\"\n",
    "all_files = glob.glob(path + \"tek0029ALL.csv\")\n",
    "\n",
    "#turn all 512 files into lists\n",
    "var = [pd.read_csv(filename,index_col=None,header=0,skiprows=17) for filename in all_files]\n",
    "\n",
    "#concat all lists and turn into 1 big dataframe\n",
    "dataframe0 = pd.concat(var,axis=0,ignore_index=True)\n",
    "\n",
    "#renaming the headers (they came as Channel 1,2,3,4 - need to know what they represent)\n",
    "rename = ['Time','Excitation_Pulse','Raman_Channel_Detection_640nm','Raman_Channel_Detection_660nm','Green_Return_532nm']\n",
    "dataframe0.columns = rename\n",
    "\n",
    "#change the data type\n",
    "DF0 = dataframe0.astype(float)\n",
    "\n",
    "df0 = DF0.assign(Time = Clean_dataframe['Time']*1e9)\n",
    "\n",
    "#Setting the Time as the index column\n",
    "df0.set_index(\"Time\",drop=True,inplace=True)"
   ]
  },
  {
   "cell_type": "code",
   "execution_count": 28,
   "id": "f885c38d",
   "metadata": {},
   "outputs": [
    {
     "data": {
      "image/png": "[encoded data removed]",
      "text/plain": [
       "<Figure size 720x720 with 4 Axes>"
      ]
     },
     "metadata": {
      "needs_background": "light"
     },
     "output_type": "display_data"
    }
   ],
   "source": [
    "#Plot all columns against Time\n",
    "fig, ([ax1,ax2],[ax3,ax4]) = plt.subplots(nrows=2,ncols=2,figsize=(10,10))\n",
    "\n",
    "ax1.scatter(df0.index,df0.Excitation_Pulse, c='blue')\n",
    "ax1.plot(df0.index,df0.Excitation_Pulse, c='blue')\n",
    "ax1.set_title('Excitation Pulse single pulse')\n",
    "ax1.set(xlabel = 'Time (ns)', ylabel = 'Excitation Pulse',xlim = (-2,4), ylim = (0,0.6))\n",
    "\n",
    "ax2.scatter(df0.index,df0.Green_Return_532nm, c='green')\n",
    "ax2.plot(df0.index,df0.Green_Return_532nm, c='green')\n",
    "ax2.set_title('Green Return single pulse')\n",
    "ax2.set(xlabel = 'Time (ns)', ylabel = 'Green Return',xlim = (-3,20), ylim = (0,0.6))\n",
    "\n",
    "ax3.scatter(df0.index,df0.Raman_Channel_Detection_660nm, c='red')\n",
    "ax3.plot(df0.index,df0.Raman_Channel_Detection_660nm, c='red')\n",
    "ax3.set_title('Raman 660nm Channel single pulse')\n",
    "ax3.set(xlabel = 'Time (ns)', ylabel = 'Raman Channel 660nm',xlim = (0,20), ylim = (0,0.6))\n",
    "\n",
    "ax4.scatter(df0.index,df0.Raman_Channel_Detection_640nm, c='orange')\n",
    "ax4.plot(df0.index,df0.Raman_Channel_Detection_640nm, c='orange')\n",
    "ax4.set_title('Raman 640nm Channel single pulse')\n",
    "ax4.set(xlabel = 'Time (ns)', ylabel = 'Raman Channel 640nm',xlim = (0,15), ylim = (0,0.6))\n",
    "\n",
    "fig.suptitle('Singular Pulses with Their Respective Channels', fontsize=30)\n",
    "plt.tight_layout()\n",
    "plt.title('Recorded measurements for each channel')\n",
    "plt.show()"
   ]
  },
  {
   "cell_type": "code",
   "execution_count": 29,
   "id": "d723a7a9",
   "metadata": {},
   "outputs": [],
   "source": [
    "#file path with glob\n",
    "path = \"Tektronix_data/\"\n",
    "all_files = glob.glob(path + \"tek0404ALL.csv\")\n",
    "\n",
    "#turn all 512 files into lists\n",
    "var = [pd.read_csv(filename,index_col=None,header=0,skiprows=17) for filename in all_files]\n",
    "\n",
    "#concat all lists and turn into 1 big dataframe\n",
    "dataframe1 = pd.concat(var,axis=0,ignore_index=True)\n",
    "\n",
    "#renaming the headers (they came as Channel 1,2,3,4 - need to know what they represent)\n",
    "rename = ['Time','Excitation_Pulse','Raman_Channel_Detection_640nm','Raman_Channel_Detection_660nm','Green_Return_532nm']\n",
    "dataframe1.columns = rename\n",
    "\n",
    "#change the data type\n",
    "DF1 = dataframe1.astype(float)\n",
    "\n",
    "df1 = DF1.assign(Time = Clean_dataframe['Time']*1e9)\n",
    "\n",
    "#Setting the Time as the index column\n",
    "df1.set_index(\"Time\",drop=True,inplace=True)"
   ]
  },
  {
   "cell_type": "code",
   "execution_count": 30,
   "id": "3e78aeb2",
   "metadata": {},
   "outputs": [
    {
     "data": {
      "image/png": "[encoded data removed]",
      "text/plain": [
       "<Figure size 720x720 with 4 Axes>"
      ]
     },
     "metadata": {
      "needs_background": "light"
     },
     "output_type": "display_data"
    }
   ],
   "source": [
    "#Plot all columns against Time\n",
    "fig, ([ax1,ax2],[ax3,ax4]) = plt.subplots(nrows=2,ncols=2,figsize=(10,10))\n",
    "\n",
    "ax1.scatter(df1.index,df1.Excitation_Pulse, c='blue')\n",
    "ax1.plot(df1.index,df1.Excitation_Pulse, c='blue')\n",
    "ax1.set_title('Excitation Pulse single pulse')\n",
    "ax1.set(xlabel = 'Time (ns)', ylabel = 'Excitation Pulse',xlim = (-2,6), ylim = (0,0.6))\n",
    "\n",
    "ax2.scatter(df1.index,df1.Green_Return_532nm, c='green')\n",
    "ax2.plot(df1.index,df1.Green_Return_532nm, c='green')\n",
    "ax2.set_title('Green Channel single pulse')\n",
    "ax2.set(xlabel = 'Time (ns)', ylabel = 'Green Return',xlim = (-3,25), ylim = (0,0.6))\n",
    "\n",
    "ax3.scatter(df1.index,df1.Raman_Channel_Detection_660nm, c='red')\n",
    "ax3.plot(df1.index,df1.Raman_Channel_Detection_660nm, c='red')\n",
    "ax3.set_title('Raman 660nm Channel single pulse')\n",
    "ax3.set(xlabel = 'Time (ns)', ylabel = 'Raman Channel 660nm',xlim = (0,20), ylim = (0,0.6))\n",
    "\n",
    "ax4.scatter(df1.index,df1.Raman_Channel_Detection_640nm, c='orange')\n",
    "ax4.plot(df1.index,df1.Raman_Channel_Detection_640nm, c='orange')\n",
    "ax4.set_title('Raman 640nm Channel single pulse')\n",
    "ax4.set(xlabel = 'Time (ns)', ylabel = 'Raman Channel 640nm',xlim = (0,20), ylim = (0,0.6))\n",
    "\n",
    "fig.suptitle('Singular Pulses with Their Respective Channels', fontsize=30)\n",
    "plt.tight_layout()\n",
    "plt.title('Recorded measurements for each channel')\n",
    "plt.show()"
   ]
  },
  {
   "cell_type": "markdown",
   "id": "1d8a6b03",
   "metadata": {},
   "source": [
    "### Averaging "
   ]
  },
  {
   "cell_type": "markdown",
   "id": "e0f6b883",
   "metadata": {},
   "source": [
    "The averaging on Tektronix that we compare with our calculated data will be the data taken with the lights on, this is because it is unfair to compare the average we calculate to the average taken from Tektronix with the lights off."
   ]
  },
  {
   "cell_type": "code",
   "execution_count": 31,
   "id": "c7e18e7e",
   "metadata": {},
   "outputs": [],
   "source": [
    "#file path with glob\n",
    "path = \"Average_data&traces_Tektronix/\"\n",
    "all_files = glob.glob(path + \"average_data_light.csv\")\n",
    "\n",
    "#turn all 512 files into lists\n",
    "var = [pd.read_csv(filename,index_col=None,header=0,skiprows=17) for filename in all_files]\n",
    "\n",
    "#concat all lists and turn into 1 big dataframe\n",
    "dataframe2 = pd.concat(var,axis=0,ignore_index=True)\n",
    "\n",
    "#renaming the headers (they came as Channel 1,2,3,4 - need to know what they represent)\n",
    "rename = ['Time','Excitation_Pulse','Raman_Channel_Detection_640nm','Raman_Channel_Detection_660nm','Green_Return_532nm']\n",
    "dataframe2.columns = rename\n",
    "\n",
    "#change the data type\n",
    "DF2 = dataframe2.astype(float)\n",
    "\n",
    "average_data_with_light = DF2.assign(Time = Clean_dataframe['Time']*1e9)\n",
    "\n",
    "#Setting the Time as the index column\n",
    "average_data_with_light.set_index(\"Time\",drop=True,inplace=True)"
   ]
  },
  {
   "cell_type": "code",
   "execution_count": 32,
   "id": "d4a1161f",
   "metadata": {},
   "outputs": [
    {
     "data": {
      "text/html": [
       "<div>\n",
       "<style scoped>\n",
       "    .dataframe tbody tr th:only-of-type {\n",
       "        vertical-align: middle;\n",
       "    }\n",
       "\n",
       "    .dataframe tbody tr th {\n",
       "        vertical-align: top;\n",
       "    }\n",
       "\n",
       "    .dataframe thead th {\n",
       "        text-align: right;\n",
       "    }\n",
       "</style>\n",
       "<table border=\"1\" class=\"dataframe\">\n",
       "  <thead>\n",
       "    <tr style=\"text-align: right;\">\n",
       "      <th></th>\n",
       "      <th>Excitation_Pulse</th>\n",
       "      <th>Raman_Channel_Detection_640nm</th>\n",
       "      <th>Raman_Channel_Detection_660nm</th>\n",
       "      <th>Green_Return_532nm</th>\n",
       "    </tr>\n",
       "    <tr>\n",
       "      <th>Time</th>\n",
       "      <th></th>\n",
       "      <th></th>\n",
       "      <th></th>\n",
       "      <th></th>\n",
       "    </tr>\n",
       "  </thead>\n",
       "  <tbody>\n",
       "    <tr>\n",
       "      <th>-94.3</th>\n",
       "      <td>-0.006938</td>\n",
       "      <td>-0.007609</td>\n",
       "      <td>-0.008703</td>\n",
       "      <td>0.000969</td>\n",
       "    </tr>\n",
       "    <tr>\n",
       "      <th>-94.1</th>\n",
       "      <td>-0.007047</td>\n",
       "      <td>-0.007469</td>\n",
       "      <td>-0.008812</td>\n",
       "      <td>0.000922</td>\n",
       "    </tr>\n",
       "    <tr>\n",
       "      <th>-93.9</th>\n",
       "      <td>-0.006844</td>\n",
       "      <td>-0.007734</td>\n",
       "      <td>-0.008797</td>\n",
       "      <td>0.001203</td>\n",
       "    </tr>\n",
       "    <tr>\n",
       "      <th>-93.7</th>\n",
       "      <td>-0.007000</td>\n",
       "      <td>-0.007281</td>\n",
       "      <td>-0.008719</td>\n",
       "      <td>0.000953</td>\n",
       "    </tr>\n",
       "    <tr>\n",
       "      <th>-93.5</th>\n",
       "      <td>-0.007156</td>\n",
       "      <td>-0.007984</td>\n",
       "      <td>-0.008703</td>\n",
       "      <td>0.001016</td>\n",
       "    </tr>\n",
       "  </tbody>\n",
       "</table>\n",
       "</div>"
      ],
      "text/plain": [
       "       Excitation_Pulse  Raman_Channel_Detection_640nm  \\\n",
       "Time                                                     \n",
       "-94.3         -0.006938                      -0.007609   \n",
       "-94.1         -0.007047                      -0.007469   \n",
       "-93.9         -0.006844                      -0.007734   \n",
       "-93.7         -0.007000                      -0.007281   \n",
       "-93.5         -0.007156                      -0.007984   \n",
       "\n",
       "       Raman_Channel_Detection_660nm  Green_Return_532nm  \n",
       "Time                                                      \n",
       "-94.3                      -0.008703            0.000969  \n",
       "-94.1                      -0.008812            0.000922  \n",
       "-93.9                      -0.008797            0.001203  \n",
       "-93.7                      -0.008719            0.000953  \n",
       "-93.5                      -0.008703            0.001016  "
      ]
     },
     "execution_count": 32,
     "metadata": {},
     "output_type": "execute_result"
    }
   ],
   "source": [
    "average_data_with_light.head()"
   ]
  },
  {
   "cell_type": "markdown",
   "id": "9daad0d8",
   "metadata": {},
   "source": [
    "**Need to compare the values below with our values from before(above)**"
   ]
  },
  {
   "cell_type": "code",
   "execution_count": 33,
   "id": "1f31a7f3",
   "metadata": {},
   "outputs": [
    {
     "name": "stdout",
     "output_type": "stream",
     "text": [
      "The average maximum of Excitation Pulse calculated by Tektronix is = 0.355359 V\n",
      "The average maximum of Green Return calculated by Tektronix is = 0.538672 V\n",
      "The average maximum of Raman Channel 660nm calculated by Tektronix is = 0.524312 V\n",
      "The average maximum of Raman Channel 640nm calculated by Tektronix is = 0.405547 V\n"
     ]
    }
   ],
   "source": [
    "#Average data - Tektronix\n",
    "data = average_data_with_light\n",
    "\n",
    "C1_max = data.Excitation_Pulse.max()\n",
    "GC_max = data.Green_Return_532nm.max()\n",
    "RC660_max = data.Raman_Channel_Detection_660nm.max()\n",
    "RC640_max = data.Raman_Channel_Detection_640nm.max()\n",
    "\n",
    "print('The average maximum of Excitation Pulse calculated by Tektronix is = {0} V'.format(C1_max))\n",
    "print('The average maximum of Green Return calculated by Tektronix is = {0} V'.format(GC_max))\n",
    "print('The average maximum of Raman Channel 660nm calculated by Tektronix is = {0} V'.format(RC660_max))\n",
    "print('The average maximum of Raman Channel 640nm calculated by Tektronix is = {0} V'.format(RC640_max))"
   ]
  },
  {
   "cell_type": "code",
   "execution_count": 34,
   "id": "bcce1cb9",
   "metadata": {},
   "outputs": [
    {
     "name": "stdout",
     "output_type": "stream",
     "text": [
      "The average FWHM of Excitation Pulse calculated by Tektronix is = 0.39999999999999947 ns\n",
      "The average FWHM of Green Return calculated by Tektronix is = 2.6000000000000005 ns\n",
      "The average FWHM of Raman Channel 660nm calculated by Tektronix is = 1.799999999999999 ns\n",
      "The average FWHM of Raman Channel 640nm calculated by Tektronix is = 2.200000000000001 ns\n"
     ]
    }
   ],
   "source": [
    "#FWHM averaged by Tektronix\n",
    "print('The average FWHM of Excitation Pulse calculated by Tektronix is = {0} ns'.format(FWHM_time_duration(data.index,data.Excitation_Pulse)))\n",
    "print('The average FWHM of Green Return calculated by Tektronix is = {0} ns'.format(FWHM_time_duration(data.index,data.Green_Return_532nm)))\n",
    "print('The average FWHM of Raman Channel 660nm calculated by Tektronix is = {0} ns'.format(FWHM_time_duration(data.index,data.Raman_Channel_Detection_660nm)))\n",
    "print('The average FWHM of Raman Channel 640nm calculated by Tektronix is = {0} ns'.format(FWHM_time_duration(data.index,data.Raman_Channel_Detection_640nm)))"
   ]
  },
  {
   "cell_type": "markdown",
   "id": "9cbe7d29",
   "metadata": {},
   "source": [
    "### Tables"
   ]
  },
  {
   "cell_type": "markdown",
   "id": "a595fd41",
   "metadata": {},
   "source": [
    "Don't forget to talk about the Standard Deviation in terms of proportion to the mean value, some Standard Deviations from the picoscope may seem pretty accurate, but when being compared to the mean value, it is much higher than the ratio of standard deviation to the mean for Tektronix data."
   ]
  },
  {
   "cell_type": "code",
   "execution_count": 35,
   "id": "25aa96a2",
   "metadata": {
    "scrolled": true
   },
   "outputs": [
    {
     "data": {
      "text/html": [
       "<div>\n",
       "<style scoped>\n",
       "    .dataframe tbody tr th:only-of-type {\n",
       "        vertical-align: middle;\n",
       "    }\n",
       "\n",
       "    .dataframe tbody tr th {\n",
       "        vertical-align: top;\n",
       "    }\n",
       "\n",
       "    .dataframe thead th {\n",
       "        text-align: right;\n",
       "    }\n",
       "</style>\n",
       "<table border=\"1\" class=\"dataframe\">\n",
       "  <thead>\n",
       "    <tr style=\"text-align: right;\">\n",
       "      <th></th>\n",
       "      <th>Mean Peak Tektronix (V)</th>\n",
       "      <th>Mean Peak PicoScope (V)</th>\n",
       "      <th>Standard Deviation for Tektronix (V)</th>\n",
       "      <th>Standard Deviation for PicoScope (V)</th>\n",
       "      <th>Error Tektronix (%)</th>\n",
       "      <th>Error PicoScope (%)</th>\n",
       "    </tr>\n",
       "    <tr>\n",
       "      <th>Channels</th>\n",
       "      <th></th>\n",
       "      <th></th>\n",
       "      <th></th>\n",
       "      <th></th>\n",
       "      <th></th>\n",
       "      <th></th>\n",
       "    </tr>\n",
       "  </thead>\n",
       "  <tbody>\n",
       "    <tr>\n",
       "      <th>Excitation Pulse</th>\n",
       "      <td>0.331</td>\n",
       "      <td>0.290</td>\n",
       "      <td>0.009</td>\n",
       "      <td>0.038</td>\n",
       "      <td>2.719033</td>\n",
       "      <td>13.103448</td>\n",
       "    </tr>\n",
       "    <tr>\n",
       "      <th>Green Return</th>\n",
       "      <td>0.554</td>\n",
       "      <td>0.025</td>\n",
       "      <td>0.004</td>\n",
       "      <td>0.002</td>\n",
       "      <td>0.722022</td>\n",
       "      <td>8.000000</td>\n",
       "    </tr>\n",
       "    <tr>\n",
       "      <th>Raman Channel 660nm</th>\n",
       "      <td>0.496</td>\n",
       "      <td>0.021</td>\n",
       "      <td>0.014</td>\n",
       "      <td>0.003</td>\n",
       "      <td>2.822581</td>\n",
       "      <td>14.285714</td>\n",
       "    </tr>\n",
       "    <tr>\n",
       "      <th>Raman Channel 640nm</th>\n",
       "      <td>0.402</td>\n",
       "      <td>0.027</td>\n",
       "      <td>0.008</td>\n",
       "      <td>0.003</td>\n",
       "      <td>1.990050</td>\n",
       "      <td>11.111111</td>\n",
       "    </tr>\n",
       "  </tbody>\n",
       "</table>\n",
       "</div>"
      ],
      "text/plain": [
       "                     Mean Peak Tektronix (V)  Mean Peak PicoScope (V)  \\\n",
       "Channels                                                                \n",
       "Excitation Pulse                       0.331                    0.290   \n",
       "Green Return                           0.554                    0.025   \n",
       "Raman Channel 660nm                    0.496                    0.021   \n",
       "Raman Channel 640nm                    0.402                    0.027   \n",
       "\n",
       "                     Standard Deviation for Tektronix (V)   \\\n",
       "Channels                                                     \n",
       "Excitation Pulse                                     0.009   \n",
       "Green Return                                         0.004   \n",
       "Raman Channel 660nm                                  0.014   \n",
       "Raman Channel 640nm                                  0.008   \n",
       "\n",
       "                     Standard Deviation for PicoScope (V)  \\\n",
       "Channels                                                    \n",
       "Excitation Pulse                                    0.038   \n",
       "Green Return                                        0.002   \n",
       "Raman Channel 660nm                                 0.003   \n",
       "Raman Channel 640nm                                 0.003   \n",
       "\n",
       "                     Error Tektronix (%)  Error PicoScope (%)  \n",
       "Channels                                                       \n",
       "Excitation Pulse                2.719033            13.103448  \n",
       "Green Return                    0.722022             8.000000  \n",
       "Raman Channel 660nm             2.822581            14.285714  \n",
       "Raman Channel 640nm             1.990050            11.111111  "
      ]
     },
     "execution_count": 35,
     "metadata": {},
     "output_type": "execute_result"
    }
   ],
   "source": [
    "meanPeak = pd.read_excel(\"Mean and StDev of various channels/Mean&StDev_maxPeak.xlsx\")\n",
    "meanPeak.set_index(\"Channels\",drop=True,inplace=True)\n",
    "\n",
    "meanPeak.head()"
   ]
  },
  {
   "cell_type": "markdown",
   "id": "5f93ad4b",
   "metadata": {},
   "source": [
    "For the average maximum peak, the Oscilloscope is consistently more accurate by an order of magnitude."
   ]
  },
  {
   "cell_type": "code",
   "execution_count": 36,
   "id": "0e714e85",
   "metadata": {},
   "outputs": [
    {
     "data": {
      "text/html": [
       "<div>\n",
       "<style scoped>\n",
       "    .dataframe tbody tr th:only-of-type {\n",
       "        vertical-align: middle;\n",
       "    }\n",
       "\n",
       "    .dataframe tbody tr th {\n",
       "        vertical-align: top;\n",
       "    }\n",
       "\n",
       "    .dataframe thead th {\n",
       "        text-align: right;\n",
       "    }\n",
       "</style>\n",
       "<table border=\"1\" class=\"dataframe\">\n",
       "  <thead>\n",
       "    <tr style=\"text-align: right;\">\n",
       "      <th></th>\n",
       "      <th>Mean Peak Tektronix (ns)</th>\n",
       "      <th>Mean Peak PicoScope (ns)</th>\n",
       "      <th>Standard Deviation for Tektronix (ns)</th>\n",
       "      <th>Standard Deviation for PicoScope (ns)</th>\n",
       "      <th>Error Tektronix (%)</th>\n",
       "      <th>Error PicoScope (%)</th>\n",
       "    </tr>\n",
       "    <tr>\n",
       "      <th>Channels</th>\n",
       "      <th></th>\n",
       "      <th></th>\n",
       "      <th></th>\n",
       "      <th></th>\n",
       "      <th></th>\n",
       "      <th></th>\n",
       "    </tr>\n",
       "  </thead>\n",
       "  <tbody>\n",
       "    <tr>\n",
       "      <th>Excitation Pulse</th>\n",
       "      <td>0.285</td>\n",
       "      <td>1.053</td>\n",
       "      <td>0.056</td>\n",
       "      <td>0.198</td>\n",
       "      <td>19.649123</td>\n",
       "      <td>18.803419</td>\n",
       "    </tr>\n",
       "    <tr>\n",
       "      <th>Green Return</th>\n",
       "      <td>3.140</td>\n",
       "      <td>13.098</td>\n",
       "      <td>0.107</td>\n",
       "      <td>0.168</td>\n",
       "      <td>3.407643</td>\n",
       "      <td>1.282639</td>\n",
       "    </tr>\n",
       "    <tr>\n",
       "      <th>Raman Channel 660nm</th>\n",
       "      <td>4.247</td>\n",
       "      <td>13.575</td>\n",
       "      <td>0.097</td>\n",
       "      <td>2.866</td>\n",
       "      <td>2.283965</td>\n",
       "      <td>21.112339</td>\n",
       "    </tr>\n",
       "    <tr>\n",
       "      <th>Raman Channel 640nm</th>\n",
       "      <td>4.286</td>\n",
       "      <td>10.636</td>\n",
       "      <td>0.100</td>\n",
       "      <td>0.146</td>\n",
       "      <td>2.333178</td>\n",
       "      <td>1.372697</td>\n",
       "    </tr>\n",
       "  </tbody>\n",
       "</table>\n",
       "</div>"
      ],
      "text/plain": [
       "                     Mean Peak Tektronix (ns)  Mean Peak PicoScope (ns)  \\\n",
       "Channels                                                                  \n",
       "Excitation Pulse                        0.285                     1.053   \n",
       "Green Return                            3.140                    13.098   \n",
       "Raman Channel 660nm                     4.247                    13.575   \n",
       "Raman Channel 640nm                     4.286                    10.636   \n",
       "\n",
       "                     Standard Deviation for Tektronix (ns)   \\\n",
       "Channels                                                      \n",
       "Excitation Pulse                                      0.056   \n",
       "Green Return                                          0.107   \n",
       "Raman Channel 660nm                                   0.097   \n",
       "Raman Channel 640nm                                   0.100   \n",
       "\n",
       "                     Standard Deviation for PicoScope (ns)  \\\n",
       "Channels                                                     \n",
       "Excitation Pulse                                     0.198   \n",
       "Green Return                                         0.168   \n",
       "Raman Channel 660nm                                  2.866   \n",
       "Raman Channel 640nm                                  0.146   \n",
       "\n",
       "                     Error Tektronix (%)  Error PicoScope (%)  \n",
       "Channels                                                       \n",
       "Excitation Pulse               19.649123            18.803419  \n",
       "Green Return                    3.407643             1.282639  \n",
       "Raman Channel 660nm             2.283965            21.112339  \n",
       "Raman Channel 640nm             2.333178             1.372697  "
      ]
     },
     "execution_count": 36,
     "metadata": {},
     "output_type": "execute_result"
    }
   ],
   "source": [
    "timeOfMeanPeak = pd.read_excel(\"Mean and StDev of various channels/Mean&StDev_timeOfmaxPeak.xlsx\")\n",
    "timeOfMeanPeak.set_index(\"Channels\",drop=True,inplace=True)\n",
    "\n",
    "timeOfMeanPeak.head()"
   ]
  },
  {
   "cell_type": "code",
   "execution_count": 37,
   "id": "836745e6",
   "metadata": {},
   "outputs": [
    {
     "data": {
      "text/html": [
       "<div>\n",
       "<style scoped>\n",
       "    .dataframe tbody tr th:only-of-type {\n",
       "        vertical-align: middle;\n",
       "    }\n",
       "\n",
       "    .dataframe tbody tr th {\n",
       "        vertical-align: top;\n",
       "    }\n",
       "\n",
       "    .dataframe thead th {\n",
       "        text-align: right;\n",
       "    }\n",
       "</style>\n",
       "<table border=\"1\" class=\"dataframe\">\n",
       "  <thead>\n",
       "    <tr style=\"text-align: right;\">\n",
       "      <th></th>\n",
       "      <th>Mean FWHM Tektronix (ns)</th>\n",
       "      <th>Mean FWHM PicoScope (ns)</th>\n",
       "      <th>Standard Deviation for FWHM Tektronix (ns)</th>\n",
       "      <th>Standard Deviation for FWHM PicoScope (ns)</th>\n",
       "      <th>Error Tektronix (%)</th>\n",
       "      <th>Error PicoScope (%)</th>\n",
       "    </tr>\n",
       "    <tr>\n",
       "      <th>Channels</th>\n",
       "      <th></th>\n",
       "      <th></th>\n",
       "      <th></th>\n",
       "      <th></th>\n",
       "      <th></th>\n",
       "      <th></th>\n",
       "    </tr>\n",
       "  </thead>\n",
       "  <tbody>\n",
       "    <tr>\n",
       "      <th>Excitation Pulse</th>\n",
       "      <td>0.535</td>\n",
       "      <td>1.232</td>\n",
       "      <td>0.093</td>\n",
       "      <td>0.179</td>\n",
       "      <td>17.383178</td>\n",
       "      <td>14.529221</td>\n",
       "    </tr>\n",
       "    <tr>\n",
       "      <th>Green Return</th>\n",
       "      <td>2.693</td>\n",
       "      <td>2.389</td>\n",
       "      <td>0.099</td>\n",
       "      <td>1.580</td>\n",
       "      <td>3.676198</td>\n",
       "      <td>66.136459</td>\n",
       "    </tr>\n",
       "    <tr>\n",
       "      <th>Raman Channel 660nm</th>\n",
       "      <td>1.958</td>\n",
       "      <td>31.607</td>\n",
       "      <td>0.087</td>\n",
       "      <td>15.689</td>\n",
       "      <td>4.443309</td>\n",
       "      <td>49.637738</td>\n",
       "    </tr>\n",
       "    <tr>\n",
       "      <th>Raman Channel 640nm</th>\n",
       "      <td>2.108</td>\n",
       "      <td>1.290</td>\n",
       "      <td>0.099</td>\n",
       "      <td>0.095</td>\n",
       "      <td>4.696395</td>\n",
       "      <td>7.364341</td>\n",
       "    </tr>\n",
       "  </tbody>\n",
       "</table>\n",
       "</div>"
      ],
      "text/plain": [
       "                     Mean FWHM Tektronix (ns)  Mean FWHM PicoScope (ns)  \\\n",
       "Channels                                                                  \n",
       "Excitation Pulse                        0.535                     1.232   \n",
       "Green Return                            2.693                     2.389   \n",
       "Raman Channel 660nm                     1.958                    31.607   \n",
       "Raman Channel 640nm                     2.108                     1.290   \n",
       "\n",
       "                     Standard Deviation for FWHM Tektronix (ns)   \\\n",
       "Channels                                                           \n",
       "Excitation Pulse                                           0.093   \n",
       "Green Return                                               0.099   \n",
       "Raman Channel 660nm                                        0.087   \n",
       "Raman Channel 640nm                                        0.099   \n",
       "\n",
       "                     Standard Deviation for FWHM PicoScope (ns)  \\\n",
       "Channels                                                          \n",
       "Excitation Pulse                                          0.179   \n",
       "Green Return                                              1.580   \n",
       "Raman Channel 660nm                                      15.689   \n",
       "Raman Channel 640nm                                       0.095   \n",
       "\n",
       "                     Error Tektronix (%)  Error PicoScope (%)  \n",
       "Channels                                                       \n",
       "Excitation Pulse               17.383178            14.529221  \n",
       "Green Return                    3.676198            66.136459  \n",
       "Raman Channel 660nm             4.443309            49.637738  \n",
       "Raman Channel 640nm             4.696395             7.364341  "
      ]
     },
     "execution_count": 37,
     "metadata": {},
     "output_type": "execute_result"
    }
   ],
   "source": [
    "dataFWHM = pd.read_excel(\"Mean and StDev of various channels/Mean&StDev_FWHM.xlsx\")\n",
    "dataFWHM.set_index(\"Channels\",drop=True,inplace=True)\n",
    "\n",
    "dataFWHM.head()"
   ]
  },
  {
   "cell_type": "markdown",
   "id": "ff617291",
   "metadata": {},
   "source": [
    "Uncertainties of 66% and 49% are really high"
   ]
  },
  {
   "cell_type": "markdown",
   "id": "67b4e3ec",
   "metadata": {},
   "source": [
    "There are times where the the Error for the Tektronix is higher than the PicoScope, but whenever that happens its only but a very small amount, but there are many times where the Error for the PicoScope is ridiculously high, up to 66%. "
   ]
  },
  {
   "cell_type": "markdown",
   "id": "7af361f4",
   "metadata": {},
   "source": [
    "Now lets compare our averages, one generated by this analysis and one automatically generated by the Oscilloscope"
   ]
  },
  {
   "cell_type": "code",
   "execution_count": 38,
   "id": "3c6de4cf",
   "metadata": {},
   "outputs": [
    {
     "data": {
      "text/html": [
       "<div>\n",
       "<style scoped>\n",
       "    .dataframe tbody tr th:only-of-type {\n",
       "        vertical-align: middle;\n",
       "    }\n",
       "\n",
       "    .dataframe tbody tr th {\n",
       "        vertical-align: top;\n",
       "    }\n",
       "\n",
       "    .dataframe thead th {\n",
       "        text-align: right;\n",
       "    }\n",
       "</style>\n",
       "<table border=\"1\" class=\"dataframe\">\n",
       "  <thead>\n",
       "    <tr style=\"text-align: right;\">\n",
       "      <th></th>\n",
       "      <th>Mean Peak - Python (V)</th>\n",
       "      <th>Mean Peak - Tektronix (V)</th>\n",
       "    </tr>\n",
       "    <tr>\n",
       "      <th>Channels</th>\n",
       "      <th></th>\n",
       "      <th></th>\n",
       "    </tr>\n",
       "  </thead>\n",
       "  <tbody>\n",
       "    <tr>\n",
       "      <th>Excitation Pulse</th>\n",
       "      <td>0.331</td>\n",
       "      <td>0.355</td>\n",
       "    </tr>\n",
       "    <tr>\n",
       "      <th>Green Return</th>\n",
       "      <td>0.554</td>\n",
       "      <td>0.538</td>\n",
       "    </tr>\n",
       "    <tr>\n",
       "      <th>Raman Channel 660nm</th>\n",
       "      <td>0.496</td>\n",
       "      <td>0.524</td>\n",
       "    </tr>\n",
       "    <tr>\n",
       "      <th>Raman Channel 640nm</th>\n",
       "      <td>0.402</td>\n",
       "      <td>0.405</td>\n",
       "    </tr>\n",
       "  </tbody>\n",
       "</table>\n",
       "</div>"
      ],
      "text/plain": [
       "                     Mean Peak - Python (V)  Mean Peak - Tektronix (V)\n",
       "Channels                                                              \n",
       "Excitation Pulse                      0.331                      0.355\n",
       "Green Return                          0.554                      0.538\n",
       "Raman Channel 660nm                   0.496                      0.524\n",
       "Raman Channel 640nm                   0.402                      0.405"
      ]
     },
     "execution_count": 38,
     "metadata": {},
     "output_type": "execute_result"
    }
   ],
   "source": [
    "avPeak = pd.read_excel(\"2 methods of averaging peak.xlsx\")\n",
    "avPeak.columns = [\"Channels\", \"Mean Peak - Python (V)\", \"Mean Peak - Tektronix (V)\"]\n",
    "avPeak.set_index('Channels',drop=True,inplace=True)\n",
    "\n",
    "avPeak.head()"
   ]
  },
  {
   "cell_type": "code",
   "execution_count": 39,
   "id": "8fea73f9",
   "metadata": {},
   "outputs": [
    {
     "data": {
      "text/html": [
       "<div>\n",
       "<style scoped>\n",
       "    .dataframe tbody tr th:only-of-type {\n",
       "        vertical-align: middle;\n",
       "    }\n",
       "\n",
       "    .dataframe tbody tr th {\n",
       "        vertical-align: top;\n",
       "    }\n",
       "\n",
       "    .dataframe thead th {\n",
       "        text-align: right;\n",
       "    }\n",
       "</style>\n",
       "<table border=\"1\" class=\"dataframe\">\n",
       "  <thead>\n",
       "    <tr style=\"text-align: right;\">\n",
       "      <th></th>\n",
       "      <th>Mean FWHM - Python (ns)</th>\n",
       "      <th>Mean FWHM - Tektronix (ns)</th>\n",
       "    </tr>\n",
       "    <tr>\n",
       "      <th>Channels</th>\n",
       "      <th></th>\n",
       "      <th></th>\n",
       "    </tr>\n",
       "  </thead>\n",
       "  <tbody>\n",
       "    <tr>\n",
       "      <th>Excitation Pulse</th>\n",
       "      <td>0.535</td>\n",
       "      <td>0.4</td>\n",
       "    </tr>\n",
       "    <tr>\n",
       "      <th>Green Return</th>\n",
       "      <td>2.693</td>\n",
       "      <td>2.6</td>\n",
       "    </tr>\n",
       "    <tr>\n",
       "      <th>Raman Channel 660nm</th>\n",
       "      <td>1.958</td>\n",
       "      <td>1.8</td>\n",
       "    </tr>\n",
       "    <tr>\n",
       "      <th>Raman Channel 640nm</th>\n",
       "      <td>2.108</td>\n",
       "      <td>2.2</td>\n",
       "    </tr>\n",
       "  </tbody>\n",
       "</table>\n",
       "</div>"
      ],
      "text/plain": [
       "                     Mean FWHM - Python (ns)  Mean FWHM - Tektronix (ns)\n",
       "Channels                                                                \n",
       "Excitation Pulse                       0.535                         0.4\n",
       "Green Return                           2.693                         2.6\n",
       "Raman Channel 660nm                    1.958                         1.8\n",
       "Raman Channel 640nm                    2.108                         2.2"
      ]
     },
     "execution_count": 39,
     "metadata": {},
     "output_type": "execute_result"
    }
   ],
   "source": [
    "avFWHM = pd.read_excel(\"2 methods of averaging FWHM.xlsx\")\n",
    "avFWHM.columns = [\"Channels\",\"Mean FWHM - Python (ns)\", \"Mean FWHM - Tektronix (ns)\"]\n",
    "avFWHM.set_index(\"Channels\",drop=True,inplace=True)\n",
    "\n",
    "avFWHM.head()"
   ]
  }
 ],
 "metadata": {
  "kernelspec": {
   "display_name": "Python 3",
   "language": "python",
   "name": "python3"
  },
  "language_info": {
   "codemirror_mode": {
    "name": "ipython",
    "version": 3
   },
   "file_extension": ".py",
   "mimetype": "text/x-python",
   "name": "python",
   "nbconvert_exporter": "python",
   "pygments_lexer": "ipython3",
   "version": "3.8.8"
  }
 },
 "nbformat": 4,
 "nbformat_minor": 5
}
